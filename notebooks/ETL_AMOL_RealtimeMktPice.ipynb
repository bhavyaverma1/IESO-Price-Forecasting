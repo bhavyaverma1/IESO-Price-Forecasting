{
 "cells": [
  {
   "cell_type": "code",
   "execution_count": 1,
   "id": "30f6ce73",
   "metadata": {},
   "outputs": [],
   "source": [
    "import os\n",
    "import re\n",
    "import pandas as pd\n",
    "import requests\n",
    "import pickle\n",
    "from tqdm import tqdm\n",
    "\n",
    "from bs4 import BeautifulSoup\n",
    "\n",
    "import warnings\n",
    "warnings.simplefilter('ignore') # Comment out to see warnings"
   ]
  },
  {
   "cell_type": "code",
   "execution_count": 2,
   "id": "413ad71f",
   "metadata": {},
   "outputs": [],
   "source": [
    "# Parent Directoy URL\n",
    "url= \"http://reports.ieso.ca/public/RealtimeMktPrice/\"\n",
    "page = requests.get(url,allow_redirects=True)"
   ]
  },
  {
   "cell_type": "code",
   "execution_count": 3,
   "id": "ca69419d-e8a7-4d9f-a41a-55cf30163c42",
   "metadata": {},
   "outputs": [],
   "source": [
    "# Setting up GCloud Storage Authentication\n",
    "from google.cloud import storage\n",
    "path_to_private_key = './ieso-dashboard-c639f1a39298.json'\n",
    "storage_client = storage.Client.from_service_account_json(json_credentials_path=path_to_private_key)\n",
    "bucket = storage_client.bucket('amol_javahire')"
   ]
  },
  {
   "cell_type": "code",
   "execution_count": 4,
   "id": "36213984",
   "metadata": {
    "tags": []
   },
   "outputs": [],
   "source": [
    "# Retrieve File names from parent directory url\n",
    "soup = BeautifulSoup(page.text)\n",
    "url_arr=soup.find_all(\"a\",href=True)\n",
    "xml_files=[]\n",
    "csv_files=[]\n",
    "for element in url_arr:\n",
    "    file_name=element.text\n",
    "    if re.search(\"\\.xml$\", file_name) and not re.search(\"_v\", file_name):\n",
    "        xml_files.append(str(file_name))\n",
    "    # if re.search(\"\\.csv$\", file_name) and not re.search(\"_v\", file_name):\n",
    "    #     csv_files.append(str(file_name))"
   ]
  },
  {
   "cell_type": "code",
   "execution_count": 5,
   "id": "882bba49-3558-4a4a-87e0-9d7036eaff04",
   "metadata": {
    "tags": []
   },
   "outputs": [],
   "source": [
    "# Helper Function to fetch the child columns\n",
    "def fill_prices_list(element):\n",
    "    int_prices=element.find_all(\"intervalprice\")\n",
    "    arr=[]\n",
    "    index=0\n",
    "    for element in int_prices:\n",
    "        arr.append(element.find(\"mcp\").text)\n",
    "        index+=1\n",
    "    while index<12:\n",
    "        arr.append(None)\n",
    "        index+=1\n",
    "    return arr\n",
    "\n",
    "def fill_prices_avg(element):\n",
    "    int_prices=element.find_all(\"intervalprice\")\n",
    "    total,count=0,0\n",
    "    if len(int_prices)==0:\n",
    "        return None\n",
    "    for element in int_prices:\n",
    "        total+=float(element.find(\"mcp\").text)\n",
    "        count+=1\n",
    "    avg=round((total/count),2)\n",
    "    return [avg]"
   ]
  },
  {
   "cell_type": "code",
   "execution_count": 6,
   "id": "44ac5959-4468-49ec-8ee9-37fae150731b",
   "metadata": {
    "tags": []
   },
   "outputs": [],
   "source": [
    "# Helper Function to extract Ontario zone data and creating a df out of its values\n",
    "def xml_to_df(soup,col_names):\n",
    "    df= pd.DataFrame(columns=col_names)\n",
    "\n",
    "    ont_data=soup.find('intertiezonalprices').find_all('prices')\n",
    "    for element in ont_data:\n",
    "        if element.find(\"pricetype\").text=='Energy':\n",
    "            df['ont_ene']=fill_prices_avg(element)\n",
    "        elif element.find(\"pricetype\").text=='10S':\n",
    "            df['ont_10s']=fill_prices_avg(element)\n",
    "        elif element.find(\"pricetype\").text=='10N':\n",
    "            df['ont_10n']=fill_prices_avg(element)\n",
    "        elif element.find(\"pricetype\").text=='30R':\n",
    "            df['ont_30r']=fill_prices_avg(element)\n",
    "        else:\n",
    "            continue\n",
    "            \n",
    "    # Created at column\n",
    "    xml_cdate=soup.find(\"createdat\").text\n",
    "    df['created_at']=xml_cdate\n",
    "    # Market Date column\n",
    "    xml_mdate=soup.find(\"deliverydate\").text\n",
    "    df['mkt_date']=xml_mdate\n",
    "    # Delivery hour column    \n",
    "    xml_mhour=soup.find(\"deliveryhour\").text\n",
    "    df['mkt_he']=xml_mhour\n",
    "        \n",
    "    return df"
   ]
  },
  {
   "cell_type": "code",
   "execution_count": 7,
   "id": "667a2ab5-260d-46ae-999c-0d0f5f9667c7",
   "metadata": {
    "tags": []
   },
   "outputs": [],
   "source": [
    "### LOCAL DATA CURATION\n",
    "\n",
    "# # Defining Output Data Structure and extracting and filling values correspondingly and then dump final data to ./[outdir]\n",
    "\n",
    "# # col_names=['ont_ene','ont_10s','ont_10n','ont_30r','man_ene','man_10n','man_30r','mic_ene','mic_10n','mic_30r','min_ene','min_10n','min_30r','new_ene','new_10n','new_30r','que_at_ene','que_at_10n','que_at_30r','que_b5d_ene','que_b5d_10n','que_b5d_30r','que_d5a_ene','que_d5a_10n','que_d5a_30r','que_d4z_ene','que_d4z_10n','que_d4z_30r','que_h9a_ene','que_h9a_10n','que_h9a_30r','que_h4z_ene','que_h4z_10n','que_h4z_30r','que_p33_ene','que_p33_10n','que_p33_30r','que_q4c_ene','que_q4c_10n','que_q4c_30r','que_x2y_ene','que_x2y_10n','que_x2y_30r','man_sk_ene','man_sk_10n','man_sk_30r']\n",
    "# col_names=['ont_ene','ont_10s','ont_10n','ont_30r']\n",
    "# outdir = './RealtimeMktPrice'\n",
    "# if not os.path.exists(outdir):\n",
    "#     os.mkdir(outdir)\n",
    "# for file in tqdm(xml_files,desc='Processing :: '):\n",
    "#     # print('Processing ' + file, end=\" \")\n",
    "#     curr_url=str(url)+str(file)\n",
    "#     page = requests.get(curr_url,allow_redirects=True)\n",
    "#     soup = BeautifulSoup(page.text, 'lxml')\n",
    "#     report_df=xml_to_df(soup,col_names)\n",
    "#     fullname = os.path.join(outdir, (str(file[:-4])))\n",
    "#     # Pickle Dump to ./out directory\n",
    "#     report_df.to_csv(fullname+'.csv',index=False)\n",
    "# print('Dumped all files in ./RealtimeMktPrice')"
   ]
  },
  {
   "cell_type": "code",
   "execution_count": 10,
   "id": "562d707c-788c-434b-90d1-f8afde5ad1cc",
   "metadata": {},
   "outputs": [
    {
     "name": "stderr",
     "output_type": "stream",
     "text": [
      "Processing :: 100%|███████████████████████████| 770/770 [21:48<00:00,  1.70s/it]"
     ]
    },
    {
     "name": "stdout",
     "output_type": "stream",
     "text": [
      "Dumped all files in ./RealtimeMktPrice\n"
     ]
    },
    {
     "name": "stderr",
     "output_type": "stream",
     "text": [
      "\n"
     ]
    }
   ],
   "source": [
    "### GCP DATA CURATION\n",
    "\n",
    "# Defining Output Data Structure and extracting and filling values correspondingly and then dump final data to ./[outdir]\n",
    "\n",
    "# col_names=['ont_ene','ont_10s','ont_10n','ont_30r','man_ene','man_10n','man_30r','mic_ene','mic_10n','mic_30r','min_ene','min_10n','min_30r','new_ene','new_10n','new_30r','que_at_ene','que_at_10n','que_at_30r','que_b5d_ene','que_b5d_10n','que_b5d_30r','que_d5a_ene','que_d5a_10n','que_d5a_30r','que_d4z_ene','que_d4z_10n','que_d4z_30r','que_h9a_ene','que_h9a_10n','que_h9a_30r','que_h4z_ene','que_h4z_10n','que_h4z_30r','que_p33_ene','que_p33_10n','que_p33_30r','que_q4c_ene','que_q4c_10n','que_q4c_30r','que_x2y_ene','que_x2y_10n','que_x2y_30r','man_sk_ene','man_sk_10n','man_sk_30r']\n",
    "col_names=['created_at','mkt_date','mkt_he','ont_ene','ont_10s','ont_10n','ont_30r']\n",
    "\n",
    "for file in tqdm(xml_files,desc='Processing :: '):\n",
    "    # print('Processing ' + file, end=\" \")\n",
    "    curr_url=str(url)+str(file)\n",
    "    page = requests.get(curr_url,allow_redirects=True)\n",
    "    soup = BeautifulSoup(page.text, 'lxml')\n",
    "    report_df=xml_to_df(soup,col_names)\n",
    "    \n",
    "    # Create a blob instance to upload your data into \n",
    "    blob = bucket.blob('RealtimeMktPrice/'+str(file[:-4])+'.csv')\n",
    "    blob.upload_from_string(report_df.to_csv(index=False), 'text/csv')\n",
    "print('Dumped all files in ./RealtimeMktPrice')"
   ]
  },
  {
   "cell_type": "code",
   "execution_count": 13,
   "id": "183b55d3-f682-4d1b-9ec7-b02ec469c8f0",
   "metadata": {
    "collapsed": true,
    "jupyter": {
     "outputs_hidden": true
    },
    "tags": []
   },
   "outputs": [
    {
     "name": "stdout",
     "output_type": "stream",
     "text": [
      "Collecting google-cloud-bigquery\n",
      "  Downloading google_cloud_bigquery-3.3.2-py2.py3-none-any.whl (211 kB)\n",
      "\u001b[2K     \u001b[38;2;114;156;31m━━━━━━━━━━━━━━━━━━━━━━━━━━━━━━━━━━━━━━━\u001b[0m \u001b[32m211.9/211.9 kB\u001b[0m \u001b[31m2.5 MB/s\u001b[0m eta \u001b[36m0:00:00\u001b[0m MB/s\u001b[0m eta \u001b[36m0:00:01\u001b[0m:01\u001b[0m\n",
      "\u001b[?25hRequirement already satisfied: google-api-core[grpc]!=2.0.*,!=2.1.*,!=2.2.*,!=2.3.0,<3.0.0dev,>=1.31.5 in /home/bhavya/miniconda3/lib/python3.9/site-packages (from google-cloud-bigquery) (2.8.2)\n",
      "Collecting proto-plus<2.0.0dev,>=1.22.0\n",
      "  Downloading proto_plus-1.22.0-py3-none-any.whl (47 kB)\n",
      "\u001b[2K     \u001b[38;2;114;156;31m━━━━━━━━━━━━━━━━━━━━━━━━━━━━━━━━━━━━━━━━\u001b[0m \u001b[32m47.7/47.7 kB\u001b[0m \u001b[31m8.4 MB/s\u001b[0m eta \u001b[36m0:00:00\u001b[0m\n",
      "\u001b[?25hRequirement already satisfied: google-resumable-media<3.0dev,>=0.6.0 in /home/bhavya/miniconda3/lib/python3.9/site-packages (from google-cloud-bigquery) (2.3.3)\n",
      "Requirement already satisfied: python-dateutil<3.0dev,>=2.7.2 in /home/bhavya/miniconda3/lib/python3.9/site-packages (from google-cloud-bigquery) (2.8.2)\n",
      "Collecting google-cloud-bigquery-storage<3.0.0dev,>=2.0.0\n",
      "  Downloading google_cloud_bigquery_storage-2.14.2-py2.py3-none-any.whl (182 kB)\n",
      "\u001b[2K     \u001b[38;2;114;156;31m━━━━━━━━━━━━━━━━━━━━━━━━━━━━━━━━━━━━━━━\u001b[0m \u001b[32m182.1/182.1 kB\u001b[0m \u001b[31m5.7 MB/s\u001b[0m eta \u001b[36m0:00:00\u001b[0m\n",
      "\u001b[?25hRequirement already satisfied: google-cloud-core<3.0.0dev,>=1.4.1 in /home/bhavya/miniconda3/lib/python3.9/site-packages (from google-cloud-bigquery) (2.3.2)\n",
      "Collecting grpcio<2.0dev,>=1.47.0\n",
      "  Downloading grpcio-1.47.0-cp39-cp39-manylinux_2_17_x86_64.manylinux2014_x86_64.whl (4.5 MB)\n",
      "\u001b[2K     \u001b[38;2;114;156;31m━━━━━━━━━━━━━━━━━━━━━━━━━━━━━━━━━━━━━━━━\u001b[0m \u001b[32m4.5/4.5 MB\u001b[0m \u001b[31m5.9 MB/s\u001b[0m eta \u001b[36m0:00:00\u001b[0mm eta \u001b[36m0:00:01\u001b[0m[36m0:00:01\u001b[0m\n",
      "\u001b[?25hRequirement already satisfied: protobuf<5.0.0dev,>=3.19.0 in /home/bhavya/miniconda3/lib/python3.9/site-packages (from google-cloud-bigquery) (4.21.5)\n",
      "Requirement already satisfied: packaging<22.0.0dev,>=14.3 in /home/bhavya/miniconda3/lib/python3.9/site-packages (from google-cloud-bigquery) (21.3)\n",
      "Collecting pyarrow<10.0dev,>=3.0.0\n",
      "  Downloading pyarrow-9.0.0-cp39-cp39-manylinux_2_17_x86_64.manylinux2014_x86_64.whl (35.3 MB)\n",
      "\u001b[2K     \u001b[38;2;114;156;31m━━━━━━━━━━━━━━━━━━━━━━━━━━━━━━━━━━━━━━━━\u001b[0m \u001b[32m35.3/35.3 MB\u001b[0m \u001b[31m5.2 MB/s\u001b[0m eta \u001b[36m0:00:00\u001b[0mm eta \u001b[36m0:00:01\u001b[0m[36m0:00:01\u001b[0m\n",
      "\u001b[?25hRequirement already satisfied: requests<3.0.0dev,>=2.18.0 in /home/bhavya/miniconda3/lib/python3.9/site-packages (from google-cloud-bigquery) (2.28.0)\n",
      "Requirement already satisfied: google-auth<3.0dev,>=1.25.0 in /home/bhavya/miniconda3/lib/python3.9/site-packages (from google-api-core[grpc]!=2.0.*,!=2.1.*,!=2.2.*,!=2.3.0,<3.0.0dev,>=1.31.5->google-cloud-bigquery) (2.11.0)\n",
      "Requirement already satisfied: googleapis-common-protos<2.0dev,>=1.56.2 in /home/bhavya/miniconda3/lib/python3.9/site-packages (from google-api-core[grpc]!=2.0.*,!=2.1.*,!=2.2.*,!=2.3.0,<3.0.0dev,>=1.31.5->google-cloud-bigquery) (1.56.4)\n",
      "Collecting grpcio-status<2.0dev,>=1.33.2\n",
      "  Downloading grpcio_status-1.47.0-py3-none-any.whl (10.0 kB)\n",
      "Requirement already satisfied: google-crc32c<2.0dev,>=1.0 in /home/bhavya/miniconda3/lib/python3.9/site-packages (from google-resumable-media<3.0dev,>=0.6.0->google-cloud-bigquery) (1.3.0)\n",
      "Requirement already satisfied: six>=1.5.2 in /home/bhavya/miniconda3/lib/python3.9/site-packages (from grpcio<2.0dev,>=1.47.0->google-cloud-bigquery) (1.16.0)\n",
      "Requirement already satisfied: pyparsing!=3.0.5,>=2.0.2 in /home/bhavya/miniconda3/lib/python3.9/site-packages (from packaging<22.0.0dev,>=14.3->google-cloud-bigquery) (3.0.4)\n",
      "Requirement already satisfied: numpy>=1.16.6 in /home/bhavya/miniconda3/lib/python3.9/site-packages (from pyarrow<10.0dev,>=3.0.0->google-cloud-bigquery) (1.22.3)\n",
      "Requirement already satisfied: idna<4,>=2.5 in /home/bhavya/miniconda3/lib/python3.9/site-packages (from requests<3.0.0dev,>=2.18.0->google-cloud-bigquery) (3.3)\n",
      "Requirement already satisfied: charset-normalizer~=2.0.0 in /home/bhavya/miniconda3/lib/python3.9/site-packages (from requests<3.0.0dev,>=2.18.0->google-cloud-bigquery) (2.0.4)\n",
      "Requirement already satisfied: certifi>=2017.4.17 in /home/bhavya/miniconda3/lib/python3.9/site-packages (from requests<3.0.0dev,>=2.18.0->google-cloud-bigquery) (2022.6.15)\n",
      "Requirement already satisfied: urllib3<1.27,>=1.21.1 in /home/bhavya/miniconda3/lib/python3.9/site-packages (from requests<3.0.0dev,>=2.18.0->google-cloud-bigquery) (1.26.9)\n",
      "Requirement already satisfied: cachetools<6.0,>=2.0.0 in /home/bhavya/miniconda3/lib/python3.9/site-packages (from google-auth<3.0dev,>=1.25.0->google-api-core[grpc]!=2.0.*,!=2.1.*,!=2.2.*,!=2.3.0,<3.0.0dev,>=1.31.5->google-cloud-bigquery) (5.2.0)\n",
      "Requirement already satisfied: rsa<5,>=3.1.4 in /home/bhavya/miniconda3/lib/python3.9/site-packages (from google-auth<3.0dev,>=1.25.0->google-api-core[grpc]!=2.0.*,!=2.1.*,!=2.2.*,!=2.3.0,<3.0.0dev,>=1.31.5->google-cloud-bigquery) (4.9)\n",
      "Requirement already satisfied: pyasn1-modules>=0.2.1 in /home/bhavya/miniconda3/lib/python3.9/site-packages (from google-auth<3.0dev,>=1.25.0->google-api-core[grpc]!=2.0.*,!=2.1.*,!=2.2.*,!=2.3.0,<3.0.0dev,>=1.31.5->google-cloud-bigquery) (0.2.8)\n",
      "Requirement already satisfied: pyasn1<0.5.0,>=0.4.6 in /home/bhavya/miniconda3/lib/python3.9/site-packages (from pyasn1-modules>=0.2.1->google-auth<3.0dev,>=1.25.0->google-api-core[grpc]!=2.0.*,!=2.1.*,!=2.2.*,!=2.3.0,<3.0.0dev,>=1.31.5->google-cloud-bigquery) (0.4.8)\n",
      "Installing collected packages: pyarrow, proto-plus, grpcio, grpcio-status, google-cloud-bigquery-storage, google-cloud-bigquery\n",
      "Successfully installed google-cloud-bigquery-3.3.2 google-cloud-bigquery-storage-2.14.2 grpcio-1.47.0 grpcio-status-1.47.0 proto-plus-1.22.0 pyarrow-9.0.0\n"
     ]
    }
   ],
   "source": [
    "# !pip install --upgrade google-cloud-bigquery"
   ]
  },
  {
   "cell_type": "code",
   "execution_count": 20,
   "id": "9dc44ac7-950a-4d4f-839a-2a364c865350",
   "metadata": {},
   "outputs": [
    {
     "data": {
      "text/plain": [
       "LoadJob<project=ieso-dashboard, location=US, id=3f858682-2d8a-4a34-ab08-582f75d0290c>"
      ]
     },
     "execution_count": 20,
     "metadata": {},
     "output_type": "execute_result"
    }
   ],
   "source": [
    "from google.cloud import bigquery\n",
    "\n",
    "# Construct a BigQuery client object.\n",
    "path_to_private_key = './ieso-dashboard-c639f1a39298.json'\n",
    "client = bigquery.Client.from_service_account_json(json_credentials_path=path_to_private_key)\n",
    "\n",
    "# TODO(developer): Set table_id to the ID of the table to create.\n",
    "table_id = \"ieso-dashboard.RealtimeMktPrice.test\"\n",
    "\n",
    "job_config = bigquery.LoadJobConfig(\n",
    "    autodetect=True,\n",
    "    write_disposition=bigquery.WriteDisposition.WRITE_TRUNCATE,\n",
    "    # The source format defaults to CSV, so the line below is optional.\n",
    "    source_format=bigquery.SourceFormat.CSV,\n",
    ")\n",
    "uri = \"gs://amol_javahire/RealtimeMktPrice/PUB_RealtimeMktPrice*\"\n",
    "\n",
    "load_job = client.load_table_from_uri(\n",
    "    uri, table_id, job_config=job_config\n",
    ")  # Make an API request.\n",
    "\n",
    "load_job.result()  # Waits for the job to complete."
   ]
  }
 ],
 "metadata": {
  "kernelspec": {
   "display_name": "Python 3 (ipykernel)",
   "language": "python",
   "name": "python3"
  },
  "language_info": {
   "codemirror_mode": {
    "name": "ipython",
    "version": 3
   },
   "file_extension": ".py",
   "mimetype": "text/x-python",
   "name": "python",
   "nbconvert_exporter": "python",
   "pygments_lexer": "ipython3",
   "version": "3.9.12"
  }
 },
 "nbformat": 4,
 "nbformat_minor": 5
}
