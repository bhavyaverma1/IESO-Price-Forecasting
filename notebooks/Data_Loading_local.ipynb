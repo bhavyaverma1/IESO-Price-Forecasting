{
 "cells": [
  {
   "cell_type": "code",
   "execution_count": 1,
   "id": "0ed1f35c-2313-4eb9-a042-97b8d6246230",
   "metadata": {},
   "outputs": [],
   "source": [
    "import pandas as pd\n",
    "from bs4 import BeautifulSoup\n",
    "from datetime import datetime, time\n",
    "from google.cloud import bigquery\n",
    "from google.oauth2 import service_account\n",
    "import warnings\n",
    "warnings.filterwarnings('ignore')\n",
    "\n",
    "pd.set_option('display.max_columns', None)\n",
    "# pd.reset_option(‘max_columns’)"
   ]
  },
  {
   "cell_type": "code",
   "execution_count": 2,
   "id": "aa487814-bcb1-405d-aea6-f727460aaf45",
   "metadata": {},
   "outputs": [],
   "source": [
    "path_to_private_key = './ieso-dashboard-c639f1a39298.json'\n",
    "credentials = service_account.Credentials.from_service_account_file(\n",
    "    path_to_private_key,\n",
    "    scopes=['https://www.googleapis.com/auth/cloud-platform'],\n",
    ")"
   ]
  },
  {
   "cell_type": "markdown",
   "id": "ed5c6e12-3531-4600-8b42-a22c5a72f3c8",
   "metadata": {},
   "source": [
    "### Independent/ Input Variables "
   ]
  },
  {
   "cell_type": "code",
   "execution_count": 3,
   "id": "46d1195a-d88c-4ceb-a2ec-6baaf55fa6d8",
   "metadata": {},
   "outputs": [],
   "source": [
    "# OLD DATA from csv file\n",
    "old_ade=pd.read_csv('adequacy_202209052348.csv')\n",
    "old_ade['mkt_datetime']=old_ade['mkt_datetime'].map(lambda x: datetime.strptime(x,'%m/%d/%Y %H:%M').isoformat(timespec='minutes'))"
   ]
  },
  {
   "cell_type": "code",
   "execution_count": 4,
   "id": "8df061b9-1b3b-41f9-9460-10a665279cf2",
   "metadata": {},
   "outputs": [],
   "source": [
    "# CURRENT DATA from bigQuery\n",
    "query_string=\"SELECT * FROM `ieso-dashboard.Adequacy2.Adequacy2_table` ORDER BY mkt_date, mkt_he;\"\n",
    "gbq_ade = pd.read_gbq(query_string, credentials=credentials)"
   ]
  },
  {
   "cell_type": "code",
   "execution_count": 5,
   "id": "e681c519-9895-4242-9f2e-626e192ca715",
   "metadata": {},
   "outputs": [],
   "source": [
    "hour_col = gbq_ade['mkt_he'].apply(lambda x: str(x-1)+\":00\")\n",
    "date_col = gbq_ade['mkt_date'].apply(lambda x: str(x))\n",
    "\n",
    "date_time=pd.to_datetime(date_col +' '+ hour_col).map(lambda x: x.isoformat(timespec='minutes'))\n",
    "\n",
    "gbq_ade.insert(loc = 0,\n",
    "          column = 'mkt_datetime',\n",
    "          value = date_time)\n",
    "# gbq_ade['mkt_datetime']=date_time"
   ]
  },
  {
   "cell_type": "code",
   "execution_count": 6,
   "id": "9dc0087e-06d3-442e-bd19-f679207d630d",
   "metadata": {},
   "outputs": [],
   "source": [
    "ind_var = ['mkt_datetime','int_nuc_sch', 'int_gas_sch',  'int_hyd_sch', 'int_win_sch', 'imp_mic_sch', 'imp_new_sch', 'imp_que_sch', 'ont_avg_dem', 'exp_mic_sch', 'exp_new_sch', 'exp_que_sch']\n",
    "X_curr = gbq_ade[ind_var]\n",
    "X_old = old_ade[ind_var]"
   ]
  },
  {
   "cell_type": "code",
   "execution_count": 7,
   "id": "7e0c0122-10c3-48d4-8997-714fe617604a",
   "metadata": {},
   "outputs": [],
   "source": [
    "X1=X_curr[X_curr['mkt_datetime']>max(X_old['mkt_datetime'])]  # which is '2022-09-06T23:00'\n",
    "X_combined = pd.concat([X_old, X1], ignore_index=True)"
   ]
  },
  {
   "cell_type": "code",
   "execution_count": 8,
   "id": "99c05a5f-76f1-45ce-8527-3f49ae14c39b",
   "metadata": {},
   "outputs": [],
   "source": [
    "X=X_combined.dropna() # includes all days from 1/1/20 till current date"
   ]
  },
  {
   "cell_type": "markdown",
   "id": "bad0c71c-1ec8-4ce0-85e6-663a6efd2518",
   "metadata": {},
   "source": [
    "### Target Variable (ont_ene)"
   ]
  },
  {
   "cell_type": "code",
   "execution_count": 9,
   "id": "41e3dd43-f9ba-4273-8dad-8f045e1e8758",
   "metadata": {},
   "outputs": [],
   "source": [
    "## CURRENT DATA being fetched from bigQuery\n",
    "query_string=\"SELECT * FROM `ieso-dashboard.RealtimeMktPrice.RealtimeMktPrice_table` ORDER BY mkt_date, mkt_he;\"\n",
    "gbq_rtmp = pd.read_gbq(query_string, credentials=credentials)"
   ]
  },
  {
   "cell_type": "code",
   "execution_count": 10,
   "id": "ea61af7c-29d8-40de-930c-6305f8ede5ff",
   "metadata": {},
   "outputs": [],
   "source": [
    "hour_col = gbq_rtmp['mkt_he'].apply(lambda x: str(x-1)+\":00\")\n",
    "date_col = gbq_rtmp['mkt_date'].apply(lambda x: str(x))\n",
    "\n",
    "date_time=pd.to_datetime(date_col +' '+ hour_col).map(lambda x: x.isoformat(timespec='minutes'))\n",
    "\n",
    "gbq_rtmp.insert(loc = 0,\n",
    "          column = 'mkt_datetime',\n",
    "          value = date_time)"
   ]
  },
  {
   "cell_type": "code",
   "execution_count": 11,
   "id": "69c0217b-19d9-4046-93ae-8edffd14f32a",
   "metadata": {},
   "outputs": [],
   "source": [
    "dep_var = ['mkt_datetime','ont_ene']\n",
    "Y_curr = gbq_rtmp[dep_var]"
   ]
  },
  {
   "cell_type": "code",
   "execution_count": 12,
   "id": "939adde6-0d3f-4bd1-8a70-fb5e29195561",
   "metadata": {},
   "outputs": [],
   "source": [
    "## OLD DATA\n",
    "old_rtmp=pd.read_excel('historical ont_ene.xlsx',skiprows=4)\n",
    "hour_col = old_rtmp['he'].apply(lambda x: str(x-1)+\":00\")\n",
    "date_col = old_rtmp['mkt_date'].apply(lambda x: str(x))\n",
    "\n",
    "date_time=pd.to_datetime(date_col +' '+ hour_col).map(lambda x: x.isoformat(timespec='minutes'))\n",
    "old_rtmp.insert(loc = 0,\n",
    "          column = 'mkt_datetime',\n",
    "          value = date_time)"
   ]
  },
  {
   "cell_type": "code",
   "execution_count": 13,
   "id": "fe31c8af-e3d0-47f0-a926-d69276d96a4c",
   "metadata": {},
   "outputs": [],
   "source": [
    "val_to_fillna=old_rtmp[old_rtmp['mkt_date']=='2022-05-20'].ont_ene.mean()\n",
    "old_rtmp.at[20893,'ont_ene']=val_to_fillna\n",
    "old_rtmp.at[20894,'ont_ene']=val_to_fillna\n",
    "old_rtmp.at[20895,'ont_ene']=val_to_fillna\n",
    "\n",
    "# old_rtmpold_rtmp['mkt_datetime']=='2022-05-20T14:00']['ont_ene']=val_to_fillna\n",
    "# old_rtmp[old_rtmp['mkt_datetime']=='2022-05-20T15:00']['ont_ene']=val_to_fillna\n",
    "old_rtmp=old_rtmp.dropna()"
   ]
  },
  {
   "cell_type": "code",
   "execution_count": 14,
   "id": "7ff3a4a7-e3d5-45f9-8ee3-b1c929056f62",
   "metadata": {},
   "outputs": [],
   "source": [
    "Y_old = old_rtmp[dep_var]\n",
    "Y1=Y_curr[Y_curr['mkt_datetime']>max(Y_old['mkt_datetime'])]  # which is '2022-09-07T10:00'\n",
    "Y_combined = pd.concat([Y_old, Y1], ignore_index=True)"
   ]
  },
  {
   "cell_type": "code",
   "execution_count": 15,
   "id": "61694624-c438-4264-8890-f82c410a2c4d",
   "metadata": {},
   "outputs": [],
   "source": [
    "Y=Y_combined.dropna() # includes all days from 1/1/20 till current date"
   ]
  },
  {
   "cell_type": "markdown",
   "id": "65d538dc-f30e-478c-9ec0-8fd6feab29d0",
   "metadata": {},
   "source": [
    "### Merging all the columns"
   ]
  },
  {
   "cell_type": "code",
   "execution_count": 16,
   "id": "ca5a1400-096b-4a89-8278-bec41d12cd20",
   "metadata": {},
   "outputs": [
    {
     "data": {
      "text/html": [
       "<div>\n",
       "<style scoped>\n",
       "    .dataframe tbody tr th:only-of-type {\n",
       "        vertical-align: middle;\n",
       "    }\n",
       "\n",
       "    .dataframe tbody tr th {\n",
       "        vertical-align: top;\n",
       "    }\n",
       "\n",
       "    .dataframe thead th {\n",
       "        text-align: right;\n",
       "    }\n",
       "</style>\n",
       "<table border=\"1\" class=\"dataframe\">\n",
       "  <thead>\n",
       "    <tr style=\"text-align: right;\">\n",
       "      <th></th>\n",
       "      <th>mkt_datetime</th>\n",
       "      <th>int_nuc_sch</th>\n",
       "      <th>int_gas_sch</th>\n",
       "      <th>int_hyd_sch</th>\n",
       "      <th>int_win_sch</th>\n",
       "      <th>imp_mic_sch</th>\n",
       "      <th>imp_new_sch</th>\n",
       "      <th>imp_que_sch</th>\n",
       "      <th>ont_avg_dem</th>\n",
       "      <th>exp_mic_sch</th>\n",
       "      <th>exp_new_sch</th>\n",
       "      <th>exp_que_sch</th>\n",
       "    </tr>\n",
       "  </thead>\n",
       "  <tbody>\n",
       "    <tr>\n",
       "      <th>1611</th>\n",
       "      <td>2020-03-08T03:00</td>\n",
       "      <td>10020</td>\n",
       "      <td>178</td>\n",
       "      <td>3189</td>\n",
       "      <td>2842</td>\n",
       "      <td>0</td>\n",
       "      <td>0</td>\n",
       "      <td>9</td>\n",
       "      <td>12989</td>\n",
       "      <td>-1450</td>\n",
       "      <td>-1407</td>\n",
       "      <td>-432</td>\n",
       "    </tr>\n",
       "    <tr>\n",
       "      <th>10515</th>\n",
       "      <td>2021-03-14T03:00</td>\n",
       "      <td>8345</td>\n",
       "      <td>216</td>\n",
       "      <td>2768</td>\n",
       "      <td>2830</td>\n",
       "      <td>0</td>\n",
       "      <td>0</td>\n",
       "      <td>9</td>\n",
       "      <td>12793</td>\n",
       "      <td>-1000</td>\n",
       "      <td>-517</td>\n",
       "      <td>-66</td>\n",
       "    </tr>\n",
       "    <tr>\n",
       "      <th>19251</th>\n",
       "      <td>2022-03-13T03:00</td>\n",
       "      <td>8345</td>\n",
       "      <td>827</td>\n",
       "      <td>3461</td>\n",
       "      <td>2274</td>\n",
       "      <td>0</td>\n",
       "      <td>0</td>\n",
       "      <td>1549</td>\n",
       "      <td>14898</td>\n",
       "      <td>-1450</td>\n",
       "      <td>-168</td>\n",
       "      <td>-214</td>\n",
       "    </tr>\n",
       "  </tbody>\n",
       "</table>\n",
       "</div>"
      ],
      "text/plain": [
       "           mkt_datetime int_nuc_sch int_gas_sch int_hyd_sch int_win_sch  \\\n",
       "1611   2020-03-08T03:00       10020         178        3189        2842   \n",
       "10515  2021-03-14T03:00        8345         216        2768        2830   \n",
       "19251  2022-03-13T03:00        8345         827        3461        2274   \n",
       "\n",
       "      imp_mic_sch imp_new_sch imp_que_sch  ont_avg_dem exp_mic_sch  \\\n",
       "1611            0           0           9        12989       -1450   \n",
       "10515           0           0           9        12793       -1000   \n",
       "19251           0           0        1549        14898       -1450   \n",
       "\n",
       "      exp_new_sch exp_que_sch  \n",
       "1611        -1407        -432  \n",
       "10515        -517         -66  \n",
       "19251        -168        -214  "
      ]
     },
     "execution_count": 16,
     "metadata": {},
     "output_type": "execute_result"
    }
   ],
   "source": [
    "X[X['mkt_datetime'].duplicated() == True]"
   ]
  },
  {
   "cell_type": "code",
   "execution_count": 17,
   "id": "72d88331-360d-44e2-93a4-80e9f04f663b",
   "metadata": {},
   "outputs": [],
   "source": [
    "X.at[1610,'mkt_datetime']='2020-03-08T02:00'\n",
    "X.at[10514,'mkt_datetime']='2021-03-14T02:00'\n",
    "X.at[19250,'mkt_datetime']='2022-03-13T02:00'"
   ]
  },
  {
   "cell_type": "code",
   "execution_count": 18,
   "id": "455f5f3a-9b0f-4ba4-8d1b-ca7cd076b745",
   "metadata": {},
   "outputs": [],
   "source": [
    "X['mkt_datetime'] = pd.to_datetime(X.mkt_datetime)\n",
    "Y['mkt_datetime'] = pd.to_datetime(Y.mkt_datetime)\n",
    "\n",
    "merged_data = pd.merge(X,Y,how='left',on = 'mkt_datetime')\n",
    "merged_data=merged_data.set_index('mkt_datetime')"
   ]
  },
  {
   "cell_type": "code",
   "execution_count": 19,
   "id": "29309461-c34d-4abe-b639-447305eb59b7",
   "metadata": {},
   "outputs": [],
   "source": [
    "merged_data.to_csv('merged_data.csv')"
   ]
  }
 ],
 "metadata": {
  "kernelspec": {
   "display_name": "Python 3 (ipykernel)",
   "language": "python",
   "name": "python3"
  },
  "language_info": {
   "codemirror_mode": {
    "name": "ipython",
    "version": 3
   },
   "file_extension": ".py",
   "mimetype": "text/x-python",
   "name": "python",
   "nbconvert_exporter": "python",
   "pygments_lexer": "ipython3",
   "version": "3.9.12"
  }
 },
 "nbformat": 4,
 "nbformat_minor": 5
}
