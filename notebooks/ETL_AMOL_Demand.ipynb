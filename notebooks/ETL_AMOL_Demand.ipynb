{
 "cells": [
  {
   "cell_type": "code",
   "execution_count": 18,
   "id": "30f6ce73",
   "metadata": {},
   "outputs": [],
   "source": [
    "import os\n",
    "import re\n",
    "import pandas as pd\n",
    "import requests\n",
    "import urllib.request\n",
    "import pickle\n",
    "from tqdm import tqdm\n",
    "from datetime import datetime\n",
    "\n",
    "from bs4 import BeautifulSoup\n",
    "import warnings\n",
    "warnings.simplefilter('once') # Comment out to see warnings if needed"
   ]
  },
  {
   "cell_type": "code",
   "execution_count": 2,
   "id": "413ad71f",
   "metadata": {},
   "outputs": [],
   "source": [
    "# Parent Directoy URL\n",
    "url= \"http://reports.ieso.ca/public/Demand/\"\n",
    "page = requests.get(url,allow_redirects=True)"
   ]
  },
  {
   "cell_type": "code",
   "execution_count": 3,
   "id": "36213984",
   "metadata": {
    "tags": []
   },
   "outputs": [],
   "source": [
    "# Retrieve File names from parent directory url\n",
    "soup = BeautifulSoup(page.text)\n",
    "xml_cap=soup.find_all(\"a\",href=True)\n",
    "files=[]\n",
    "for element in xml_cap:\n",
    "    file_name=element.text\n",
    "    if re.search(\"\\.csv$\", file_name) and not re.search(\"_v\", file_name):\n",
    "        files.append(str(file_name))"
   ]
  },
  {
   "cell_type": "code",
   "execution_count": 2,
   "id": "4d075156-49e1-4645-b87e-354cd6da5ae9",
   "metadata": {},
   "outputs": [],
   "source": [
    "# Setting up GCloud Storage Authentication\n",
    "from google.cloud import storage\n",
    "path_to_private_key = './ieso-dashboard-c639f1a39298.json'\n",
    "client = storage.Client.from_service_account_json(json_credentials_path=path_to_private_key)\n",
    "bucket = client.bucket('amol_javahire')"
   ]
  },
  {
   "cell_type": "code",
   "execution_count": 5,
   "id": "e26420a4-3fe5-4393-bbab-c9e3d52d5b89",
   "metadata": {},
   "outputs": [],
   "source": [
    "# Downloading the csv files as it is\n",
    "# warnings.simplefilter('once') # Comment out to see warnings if needed\n",
    "\n",
    "## LOCAL DATA CURATION\n",
    "\n",
    "# outdir = './Demand'\n",
    "# if not os.path.exists(outdir):\n",
    "#     os.mkdir(outdir)\n",
    "# for file in files:\n",
    "#     print('Processing : ' + file)\n",
    "#     curr_url=str(url)+str(file)\n",
    "#     fullname = os.path.join(outdir, (str(file)))\n",
    "#     urllib.request.urlretrieve(curr_url, fullname)\n",
    "# print('Downloaded all csv files in ./Demand')"
   ]
  },
  {
   "cell_type": "code",
   "execution_count": 9,
   "id": "abf503f4-e949-40e2-a1b9-6e62113adbaa",
   "metadata": {},
   "outputs": [],
   "source": [
    "pd.set_option('display.max_columns', None)\n",
    "pd.reset_option('max_columns')"
   ]
  },
  {
   "cell_type": "code",
   "execution_count": 33,
   "id": "ace0b4c6-ee2b-4da3-9a18-5cdd83a278e5",
   "metadata": {
    "tags": []
   },
   "outputs": [
    {
     "name": "stderr",
     "output_type": "stream",
     "text": [
      "Processing :: 100%|█████████████████████████████| 22/22 [01:43<00:00,  4.73s/it]"
     ]
    },
    {
     "name": "stdout",
     "output_type": "stream",
     "text": [
      "Dumped all csv files in ./Demand\n"
     ]
    },
    {
     "name": "stderr",
     "output_type": "stream",
     "text": [
      "\n"
     ]
    }
   ],
   "source": [
    "## GCP DATA CURATION\n",
    "\n",
    "# Defining Output Data Structure and extracting and filling values correspondingly and then dump final data to ./[outdir]\n",
    "col_names=['mkt_date','mkt_he','mkt_demand','ont_demand']\n",
    "\n",
    "for file in tqdm(files,desc=\"Processing :: \"):\n",
    "    curr_url=str(url)+str(file)\n",
    "    df=pd.read_csv(curr_url,names=col_names,skiprows=4,header=None)\n",
    "    created_at=pd.read_csv(curr_url,nrows=2).iloc[0,0]\n",
    "    \n",
    "    # Regex to capture only the date from string\n",
    "    match_str = re.search(r'\\d{4}-\\d{2}-\\d{2} \\d{2}:\\d{2}:\\d{2}', created_at)\n",
    "    date_val = datetime.strptime(match_str.group(), '%Y-%m-%d %H:%M:%S').isoformat()\n",
    "\n",
    "    # Inserting  created_at column\n",
    "    df.insert(0,'created_at', date_val)\n",
    "\n",
    "    blob = bucket.blob('Demand/'+str(file))\n",
    "    blob.upload_from_string(df.to_csv(index=False), 'text/csv')\n",
    "print('Dumped all csv files in ./Demand')"
   ]
  },
  {
   "cell_type": "code",
   "execution_count": 6,
   "id": "2fbffe0f-ba91-4381-949c-913ee082e585",
   "metadata": {},
   "outputs": [],
   "source": [
    "# pd.set_option('display.max_columns', None)\n",
    "# pd.reset_option(‘max_columns’)"
   ]
  },
  {
   "cell_type": "code",
   "execution_count": 4,
   "id": "16819986-eeef-4a67-95a7-feb8038d32d1",
   "metadata": {},
   "outputs": [
    {
     "data": {
      "text/plain": [
       "LoadJob<project=ieso-dashboard, location=US, id=c4ed8c3d-e39a-4428-a4cb-c751c803bd6d>"
      ]
     },
     "execution_count": 4,
     "metadata": {},
     "output_type": "execute_result"
    }
   ],
   "source": [
    "from google.cloud import bigquery\n",
    "\n",
    "# Construct a BigQuery client object.\n",
    "path_to_private_key = './ieso-dashboard-c639f1a39298.json'\n",
    "client = bigquery.Client.from_service_account_json(json_credentials_path=path_to_private_key)\n",
    "\n",
    "# TODO(developer): Set table_id to the ID of the table to create.\n",
    "table_id = \"ieso-dashboard.Demand.test\"\n",
    "\n",
    "job_config = bigquery.LoadJobConfig(\n",
    "    autodetect=True,\n",
    "    write_disposition=bigquery.WriteDisposition.WRITE_TRUNCATE,\n",
    "    # The source format defaults to CSV, so the line below is optional.\n",
    "    source_format=bigquery.SourceFormat.CSV,\n",
    ")\n",
    "uri = \"gs://amol_javahire/Demand/PUB_Demand_*\"\n",
    "\n",
    "load_job = client.load_table_from_uri(\n",
    "    uri, table_id, job_config=job_config\n",
    ")  # Make an API request.\n",
    "\n",
    "load_job.result()  # Waits for the job to complete."
   ]
  },
  {
   "cell_type": "code",
   "execution_count": null,
   "id": "5c55738e-27ac-4fd8-a884-bec0c4b3ba0d",
   "metadata": {},
   "outputs": [],
   "source": []
  }
 ],
 "metadata": {
  "kernelspec": {
   "display_name": "Python 3 (ipykernel)",
   "language": "python",
   "name": "python3"
  },
  "language_info": {
   "codemirror_mode": {
    "name": "ipython",
    "version": 3
   },
   "file_extension": ".py",
   "mimetype": "text/x-python",
   "name": "python",
   "nbconvert_exporter": "python",
   "pygments_lexer": "ipython3",
   "version": "3.9.12"
  }
 },
 "nbformat": 4,
 "nbformat_minor": 5
}
