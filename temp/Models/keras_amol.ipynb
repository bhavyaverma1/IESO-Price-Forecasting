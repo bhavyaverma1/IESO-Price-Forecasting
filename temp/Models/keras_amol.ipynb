{
 "cells": [
  {
   "cell_type": "code",
   "execution_count": 37,
   "id": "428c716f-5e49-4e49-8b2c-0fa21f3f7f90",
   "metadata": {},
   "outputs": [],
   "source": [
    "import numpy as np\n",
    "import pandas as pd\n",
    "from tensorflow.keras.models import Sequential\n",
    "from tensorflow.keras.layers import LSTM\n",
    "from tensorflow.keras.layers import Dense, Dropout\n",
    "\n",
    "from matplotlib import pyplot as plt\n",
    "from sklearn.preprocessing import StandardScaler\n",
    "import seaborn as sns"
   ]
  },
  {
   "cell_type": "code",
   "execution_count": 38,
   "id": "c98b68a1-975f-49a7-83d6-716e0ba06f01",
   "metadata": {},
   "outputs": [],
   "source": [
    "#Read the csv file\n",
    "df=pd.read_csv('merged_data.csv')"
   ]
  },
  {
   "cell_type": "code",
   "execution_count": 39,
   "id": "488b297b-118d-4e1c-b6df-1845c87e6ca1",
   "metadata": {},
   "outputs": [
    {
     "name": "stdout",
     "output_type": "stream",
     "text": [
      "23553   2022-09-08 09:00:00\n",
      "23554   2022-09-08 10:00:00\n",
      "23555   2022-09-08 11:00:00\n",
      "23556   2022-09-08 12:00:00\n",
      "23557   2022-09-08 13:00:00\n",
      "23558   2022-09-08 14:00:00\n",
      "23559   2022-09-08 15:00:00\n",
      "23560   2022-09-08 16:00:00\n",
      "23561   2022-09-08 17:00:00\n",
      "23562   2022-09-08 18:00:00\n",
      "23563   2022-09-08 19:00:00\n",
      "23564   2022-09-08 20:00:00\n",
      "23565   2022-09-08 21:00:00\n",
      "23566   2022-09-08 22:00:00\n",
      "23567   2022-09-08 23:00:00\n",
      "Name: mkt_datetime, dtype: datetime64[ns]\n"
     ]
    }
   ],
   "source": [
    "#Separate dates for future plotting\n",
    "train_dates = pd.to_datetime(df['mkt_datetime'])\n",
    "print(train_dates.tail(15)) #Check last few dates. "
   ]
  },
  {
   "cell_type": "code",
   "execution_count": 40,
   "id": "809421c0-1021-403f-8e6f-5308b2f2ccf0",
   "metadata": {},
   "outputs": [
    {
     "name": "stdout",
     "output_type": "stream",
     "text": [
      "['int_nuc_sch', 'int_gas_sch', 'int_hyd_sch', 'int_win_sch', 'imp_mic_sch', 'imp_new_sch', 'imp_que_sch', 'ont_avg_dem', 'exp_mic_sch', 'exp_new_sch', 'exp_que_sch']\n"
     ]
    }
   ],
   "source": [
    "#Variables for training\n",
    "cols = list(df)[1:12]\n",
    "#Date and volume columns are not used in training. \n",
    "print(cols)"
   ]
  },
  {
   "cell_type": "code",
   "execution_count": 41,
   "id": "876886b6-8751-4db3-87b9-6b0ff852f714",
   "metadata": {},
   "outputs": [],
   "source": [
    "#New dataframe with only training data - 5 columns\n",
    "df_for_training = df[cols].astype(float)"
   ]
  },
  {
   "cell_type": "code",
   "execution_count": 42,
   "id": "4a29ec09-f317-418c-9c08-ecf19ffc52fe",
   "metadata": {},
   "outputs": [],
   "source": [
    "#LSTM uses sigmoid and tanh that are sensitive to magnitude so values need to be normalized\n",
    "# normalize the dataset\n",
    "scaler = StandardScaler()\n",
    "scaler = scaler.fit(df_for_training)\n",
    "df_for_training_scaled = scaler.transform(df_for_training)"
   ]
  },
  {
   "cell_type": "code",
   "execution_count": 43,
   "id": "b654257a-5633-4b89-bcc1-1e6a587b4bbc",
   "metadata": {},
   "outputs": [],
   "source": [
    "#As required for LSTM networks, we require to reshape an input data into n_samples x timesteps x n_features. \n",
    "#In this example, the n_features is 5. We will make timesteps = 14 (past days data used for training). \n",
    "\n",
    "#Empty lists to be populated using formatted training data\n",
    "trainX = []\n",
    "trainY = []\n",
    "\n",
    "n_future = 1   # Number of days we want to look into the future based on the past days.\n",
    "n_past = 24  # Number of past days we want to use to predict the future.\n"
   ]
  },
  {
   "cell_type": "code",
   "execution_count": 44,
   "id": "1edafd20-71d3-454b-b3e3-8bee243f7501",
   "metadata": {},
   "outputs": [],
   "source": [
    "#Reformat input data into a shape: (n_samples x timesteps x n_features)\n",
    "#In my example, my df_for_training_scaled has a shape (12823, 5)\n",
    "#12823 refers to the number of data points and 5 refers to the columns (multi-variables).\n",
    "for i in range(n_past, len(df_for_training_scaled) - n_future +1):\n",
    "    trainX.append(df_for_training_scaled[i - n_past:i, 0:df_for_training.shape[1]])\n",
    "    trainY.append(df_for_training_scaled[i + n_future - 1:i + n_future, -1])"
   ]
  },
  {
   "cell_type": "code",
   "execution_count": 45,
   "id": "79183c18-199f-4c0c-9ecf-03188864e745",
   "metadata": {},
   "outputs": [
    {
     "name": "stdout",
     "output_type": "stream",
     "text": [
      "trainX shape == (23544, 24, 11).\n",
      "trainY shape == (23544, 1).\n"
     ]
    }
   ],
   "source": [
    "trainX, trainY = np.array(trainX), np.array(trainY)\n",
    "\n",
    "print('trainX shape == {}.'.format(trainX.shape))\n",
    "print('trainY shape == {}.'.format(trainY.shape))"
   ]
  },
  {
   "cell_type": "code",
   "execution_count": 46,
   "id": "dba45b8b-24e9-43c3-8622-bf89c08a36d7",
   "metadata": {
    "tags": []
   },
   "outputs": [
    {
     "name": "stdout",
     "output_type": "stream",
     "text": [
      "Model: \"sequential_2\"\n",
      "_________________________________________________________________\n",
      " Layer (type)                Output Shape              Param #   \n",
      "=================================================================\n",
      " lstm_4 (LSTM)               (None, 24, 64)            19456     \n",
      "                                                                 \n",
      " lstm_5 (LSTM)               (None, 32)                12416     \n",
      "                                                                 \n",
      " dropout_2 (Dropout)         (None, 32)                0         \n",
      "                                                                 \n",
      " dense_2 (Dense)             (None, 1)                 33        \n",
      "                                                                 \n",
      "=================================================================\n",
      "Total params: 31,905\n",
      "Trainable params: 31,905\n",
      "Non-trainable params: 0\n",
      "_________________________________________________________________\n"
     ]
    }
   ],
   "source": [
    "# define the Autoencoder model\n",
    "\n",
    "model = Sequential()\n",
    "model.add(LSTM(64, activation='relu', input_shape=(trainX.shape[1], trainX.shape[2]), return_sequences=True))\n",
    "model.add(LSTM(32, activation='relu', return_sequences=False))\n",
    "model.add(Dropout(0.2))\n",
    "model.add(Dense(trainY.shape[1]))\n",
    "\n",
    "model.compile(optimizer='adam', loss='mse')\n",
    "model.summary()"
   ]
  },
  {
   "cell_type": "code",
   "execution_count": 47,
   "id": "e9ae4891-0e62-48cc-aba8-9a0baa2d1642",
   "metadata": {},
   "outputs": [
    {
     "name": "stdout",
     "output_type": "stream",
     "text": [
      "Epoch 1/10\n",
      "1325/1325 [==============================] - 35s 24ms/step - loss: 0.2709 - val_loss: 0.1357\n",
      "Epoch 2/10\n",
      "1325/1325 [==============================] - 31s 24ms/step - loss: 0.1499 - val_loss: 0.1314\n",
      "Epoch 3/10\n",
      "1325/1325 [==============================] - 39s 29ms/step - loss: 0.1357 - val_loss: 0.1123\n",
      "Epoch 4/10\n",
      "1325/1325 [==============================] - 35s 26ms/step - loss: 0.1351 - val_loss: 0.1059\n",
      "Epoch 5/10\n",
      "1325/1325 [==============================] - 42s 31ms/step - loss: 0.1300 - val_loss: 0.0895\n",
      "Epoch 6/10\n",
      "1325/1325 [==============================] - 40s 30ms/step - loss: 0.1291 - val_loss: 0.1001\n",
      "Epoch 7/10\n",
      "1325/1325 [==============================] - 40s 30ms/step - loss: 0.1242 - val_loss: 0.0957\n",
      "Epoch 8/10\n",
      "1325/1325 [==============================] - 33s 25ms/step - loss: 0.1216 - val_loss: 0.1063\n",
      "Epoch 9/10\n",
      "1325/1325 [==============================] - 34s 26ms/step - loss: 0.1205 - val_loss: 0.0940\n",
      "Epoch 10/10\n",
      "1325/1325 [==============================] - 33s 25ms/step - loss: 0.1173 - val_loss: 0.1050\n"
     ]
    },
    {
     "data": {
      "text/plain": [
       "<matplotlib.legend.Legend at 0x7f382adc2f70>"
      ]
     },
     "execution_count": 47,
     "metadata": {},
     "output_type": "execute_result"
    },
    {
     "data": {
      "image/png": "[encoded data removed]",
      "text/plain": [
       "<Figure size 640x480 with 1 Axes>"
      ]
     },
     "metadata": {},
     "output_type": "display_data"
    }
   ],
   "source": [
    "# fit the model\n",
    "history = model.fit(trainX, trainY, epochs=10, batch_size=16, validation_split=0.1, verbose=1)\n",
    "\n",
    "plt.plot(history.history['loss'], label='Training loss')\n",
    "plt.plot(history.history['val_loss'], label='Validation loss')\n",
    "plt.legend()"
   ]
  },
  {
   "cell_type": "code",
   "execution_count": 48,
   "id": "45cd9544-af74-4aed-8a73-535dee6b156a",
   "metadata": {},
   "outputs": [
    {
     "name": "stdout",
     "output_type": "stream",
     "text": [
      "[Timestamp('2022-09-08 08:00:00', freq='H'), Timestamp('2022-09-08 09:00:00', freq='H'), Timestamp('2022-09-08 10:00:00', freq='H'), Timestamp('2022-09-08 11:00:00', freq='H'), Timestamp('2022-09-08 12:00:00', freq='H'), Timestamp('2022-09-08 13:00:00', freq='H'), Timestamp('2022-09-08 14:00:00', freq='H'), Timestamp('2022-09-08 15:00:00', freq='H'), Timestamp('2022-09-08 16:00:00', freq='H'), Timestamp('2022-09-08 17:00:00', freq='H'), Timestamp('2022-09-08 18:00:00', freq='H'), Timestamp('2022-09-08 19:00:00', freq='H'), Timestamp('2022-09-08 20:00:00', freq='H'), Timestamp('2022-09-08 21:00:00', freq='H'), Timestamp('2022-09-08 22:00:00', freq='H')]\n"
     ]
    }
   ],
   "source": [
    "#Predicting...\n",
    "#Remember that we can only predict one day in future as our model needs 5 variables\n",
    "#as inputs for prediction. We only have all 5 variables until the last day in our dataset.\n",
    "n_past = 16\n",
    "n_days_for_prediction=15  #let us predict past 15 days\n",
    "\n",
    "predict_period_dates = pd.date_range(list(train_dates)[-n_past], periods=n_days_for_prediction, freq='H').tolist()\n",
    "print(predict_period_dates)\n"
   ]
  },
  {
   "cell_type": "code",
   "execution_count": 49,
   "id": "14c178f0-368a-47e1-8bbe-dc20019425bb",
   "metadata": {},
   "outputs": [
    {
     "name": "stdout",
     "output_type": "stream",
     "text": [
      "1/1 [==============================] - 0s 333ms/step\n"
     ]
    }
   ],
   "source": [
    "prediction = model.predict(trainX[-n_days_for_prediction:])"
   ]
  },
  {
   "cell_type": "code",
   "execution_count": 50,
   "id": "968802a8-7754-4518-9bbd-92a794ee58ab",
   "metadata": {},
   "outputs": [],
   "source": [
    "#Perform inverse transformation to rescale back to original range\n",
    "#Since we used 5 variables for transform, the inverse expects same dimensions\n",
    "#Therefore, let us copy our values 5 times and discard them after inverse transform\n",
    "prediction_copies = np.repeat(prediction, df_for_training.shape[1], axis=-1)\n",
    "y_pred_future = scaler.inverse_transform(prediction_copies)[:,0]"
   ]
  },
  {
   "cell_type": "code",
   "execution_count": 51,
   "id": "4a6e982d-7605-4f24-9241-eec748467a60",
   "metadata": {},
   "outputs": [],
   "source": [
    "df_forecast = pd.DataFrame({'mkt_datetime':np.array(predict_period_dates), 'ont_ene':y_pred_future})\n",
    "df_forecast['mkt_datetime']=pd.to_datetime(df_forecast['mkt_datetime'])"
   ]
  },
  {
   "cell_type": "code",
   "execution_count": 52,
   "id": "585a889b-4fb3-402f-8a6f-3d86a3158c7c",
   "metadata": {},
   "outputs": [
    {
     "name": "stderr",
     "output_type": "stream",
     "text": [
      "/tmp/ipykernel_16838/15949742.py:2: SettingWithCopyWarning: \n",
      "A value is trying to be set on a copy of a slice from a DataFrame.\n",
      "Try using .loc[row_indexer,col_indexer] = value instead\n",
      "\n",
      "See the caveats in the documentation: https://pandas.pydata.org/pandas-docs/stable/user_guide/indexing.html#returning-a-view-versus-a-copy\n",
      "  original['mkt_datetime']=pd.to_datetime(original['mkt_datetime'])\n"
     ]
    }
   ],
   "source": [
    "original = df[['mkt_datetime', 'ont_ene']]\n",
    "original['mkt_datetime']=pd.to_datetime(original['mkt_datetime'])\n",
    "original = original.loc[original['mkt_datetime'] >= '2022-09-08 08:00:00']\n"
   ]
  },
  {
   "cell_type": "code",
   "execution_count": 53,
   "id": "8ccf6824-d707-4e05-a55f-1ad4a1bd9612",
   "metadata": {},
   "outputs": [
    {
     "data": {
      "text/plain": [
       "<AxesSubplot:xlabel='mkt_datetime', ylabel='ont_ene'>"
      ]
     },
     "execution_count": 53,
     "metadata": {},
     "output_type": "execute_result"
    },
    {
     "data": {
      "image/png": "[encoded data removed]",
      "text/plain": [
       "<Figure size 640x480 with 1 Axes>"
      ]
     },
     "metadata": {},
     "output_type": "display_data"
    }
   ],
   "source": [
    "sns.lineplot(x=original['mkt_datetime'], y=original['ont_ene'])\n",
    "sns.lineplot(x=df_forecast['mkt_datetime'],y= df_forecast['ont_ene'])"
   ]
  },
  {
   "cell_type": "code",
   "execution_count": 55,
   "id": "20cc96e3-3123-4b45-9244-d01970163e29",
   "metadata": {},
   "outputs": [
    {
     "name": "stdout",
     "output_type": "stream",
     "text": [
      "          mkt_datetime       ont_ene\n",
      "0  2022-09-08 08:00:00  10277.056641\n",
      "1  2022-09-08 09:00:00  10286.958984\n",
      "2  2022-09-08 10:00:00  10300.747070\n",
      "3  2022-09-08 11:00:00  10295.921875\n",
      "4  2022-09-08 12:00:00  10272.201172\n",
      "5  2022-09-08 13:00:00  10268.617188\n",
      "6  2022-09-08 14:00:00  10309.343750\n",
      "7  2022-09-08 15:00:00  10353.108398\n",
      "8  2022-09-08 16:00:00  10341.284180\n",
      "9  2022-09-08 17:00:00  10309.990234\n",
      "10 2022-09-08 18:00:00  10276.834961\n",
      "11 2022-09-08 19:00:00  10242.470703\n",
      "12 2022-09-08 20:00:00  10233.072266\n",
      "13 2022-09-08 21:00:00  10196.672852\n",
      "14 2022-09-08 22:00:00  10205.961914\n"
     ]
    }
   ],
   "source": [
    "print(df_forecast)"
   ]
  },
  {
   "cell_type": "code",
   "execution_count": null,
   "id": "1aef1225-a232-419e-a255-cbb54abaf6ea",
   "metadata": {},
   "outputs": [],
   "source": []
  },
  {
   "cell_type": "code",
   "execution_count": null,
   "id": "678983b4-d1f8-4bf2-a1d5-573333ba9a73",
   "metadata": {},
   "outputs": [],
   "source": []
  }
 ],
 "metadata": {
  "kernelspec": {
   "display_name": "Python 3 (ipykernel)",
   "language": "python",
   "name": "python3"
  },
  "language_info": {
   "codemirror_mode": {
    "name": "ipython",
    "version": 3
   },
   "file_extension": ".py",
   "mimetype": "text/x-python",
   "name": "python",
   "nbconvert_exporter": "python",
   "pygments_lexer": "ipython3",
   "version": "3.9.12"
  }
 },
 "nbformat": 4,
 "nbformat_minor": 5
}
