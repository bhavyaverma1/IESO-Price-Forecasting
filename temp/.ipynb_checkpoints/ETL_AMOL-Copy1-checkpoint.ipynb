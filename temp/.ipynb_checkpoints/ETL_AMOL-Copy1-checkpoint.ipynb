{
 "cells": [
  {
   "cell_type": "code",
   "execution_count": 23,
   "id": "30f6ce73",
   "metadata": {},
   "outputs": [],
   "source": [
    "from bs4 import BeautifulSoup\n",
    "import requests\n",
    "import csv\n",
    "from csv import writer\n",
    "\n",
    "import pickle\n",
    "import sys\n",
    "import pandas as pd"
   ]
  },
  {
   "cell_type": "code",
   "execution_count": 2,
   "id": "413ad71f",
   "metadata": {},
   "outputs": [],
   "source": [
    "url= \"http://reports.ieso.ca/public/Adequacy2/PUB_Adequacy2.xml\""
   ]
  },
  {
   "cell_type": "code",
   "execution_count": 3,
   "id": "012001ec",
   "metadata": {},
   "outputs": [],
   "source": [
    "page = requests.get(url,allow_redirects=True)"
   ]
  },
  {
   "cell_type": "code",
   "execution_count": 27,
   "id": "36213984",
   "metadata": {
    "tags": []
   },
   "outputs": [],
   "source": [
    "soup = BeautifulSoup(page.text, 'lxml')\n",
    "#lists = soup.find_all('div', class_=\"c1head\")"
   ]
  },
  {
   "cell_type": "code",
   "execution_count": 7,
   "id": "e5b11b72",
   "metadata": {
    "tags": []
   },
   "outputs": [
    {
     "data": {
      "text/plain": [
       "'Adequacy Report'"
      ]
     },
     "execution_count": 7,
     "metadata": {},
     "output_type": "execute_result"
    }
   ],
   "source": [
    "title= soup.find('doctitle').string\n",
    "title"
   ]
  },
  {
   "cell_type": "code",
   "execution_count": 8,
   "id": "b8306d3a-532f-43e3-b550-1daf206c029c",
   "metadata": {
    "tags": []
   },
   "outputs": [
    {
     "name": "stdout",
     "output_type": "stream",
     "text": [
      "Empty DataFrame\n",
      "Columns: [mkt_date, mkt_he, dacp_flag, file_ver, created_at, ont_cap, ont_ene, int_nuc_cap, int_nuc_out, int_nuc_off, int_nuc_sch, int_gas_cap, int_gas_out, int_gas_off, int_gas_sch, int_hyd_cap, int_hyd_out, int_hyd_for, int_hyd_off, int_hyd_sch, int_win_cap, int_win_out, int_win_for, int_win_sch, int_sol_cap, int_sol_out, int_sol_for, int_sol_sch, int_bio_cap, int_bio_out, int_bio_off, int_bio_sch, int_oth_cap, int_oth_out, int_oth_off, int_oth_sch, int_tot_out, int_tot_off, int_tot_sch, imp_man_off, imp_man_sch, imp_min_off, imp_min_sch, imp_mic_off, imp_mic_sch, imp_new_off, imp_new_sch, imp_que_off, imp_que_sch, imp_tot_off, imp_tot_sch, imp_tot_est, imp_tot_cap, ont_bot_cap, ont_reg, ont_tot_sup, ont_for_dem, ont_peak_dem, ont_avg_dem, ont_emb_wind, ont_emb_sol, ont_disp_cap, ont_disp_bid, ont_disp_on, ont_disp_off, ont_hdr_bid, ont_hdr_sch, ont_hdr_cur, exp_man_bid, exp_man_sch, exp_min_bid, exp_min_sch, exp_mic_bid, exp_mic_sch, exp_new_bid, exp_new_sch, exp_que_bid, exp_que_sch, exp_tot_bid, exp_tot_sch, exp_tot_cap, grh_tot, grh_min_10n, grh_min_10s, grh_lfu, grh_add, total_req, cap_excess, energy_excess, offered_cap_excess, res_not_sch, imp_not_sch]\n",
      "Index: []\n",
      "\n",
      "[0 rows x 92 columns]\n"
     ]
    }
   ],
   "source": [
    "out_struc=pd.read_csv('adequacy_202208161044.csv')\n",
    "# print(out_struc.head())\n",
    "df= pd.DataFrame(columns=out_struc.columns)\n",
    "print(df.head())"
   ]
  },
  {
   "cell_type": "code",
   "execution_count": 47,
   "id": "cb444eec",
   "metadata": {},
   "outputs": [],
   "source": [
    "# Helper Function to fetch capacities\n",
    "def fill_cap_list(element):\n",
    "    xml_cap=element.find(\"capacities\").find_all(\"capacity\")\n",
    "    cap=[]\n",
    "    for element in xml_cap:\n",
    "        if element.find(\"energymw\")==None:\n",
    "            cap.append(None)\n",
    "        cap.append(element.find(\"energymw\").text)\n",
    "    return cap\n",
    "def fill_out_list(element):\n",
    "    xml_out=element.find(\"outages\").find_all(\"outage\")\n",
    "    out=[]\n",
    "    for element in xml_out:\n",
    "        if element.find(\"energymw\")==None:\n",
    "            out.append(None)\n",
    "        out.append(element.find(\"energymw\").text)\n",
    "    return out\n",
    "def fill_off_list(element):\n",
    "    xml_off=element.find(\"offers\").find_all(\"offer\")\n",
    "    off=[]\n",
    "    for element in xml_off:\n",
    "        if element.find(\"energymw\")==None:\n",
    "            out.append(None)\n",
    "        out.append(element.find(\"energymw\").text)\n",
    "    return out"
   ]
  },
  {
   "cell_type": "code",
   "execution_count": 37,
   "id": "9a7d0062-dc38-40ac-99ad-81459b3db5a5",
   "metadata": {
    "tags": []
   },
   "outputs": [],
   "source": [
    "# Ontario Capacity\n",
    "xml_cap=soup.find(\"capacities\").find_all(\"capacity\")\n",
    "ont_cap=[]\n",
    "for element in xml_cap:\n",
    "    ont_cap.append(element.find(\"energymw\").text)\n",
    "df['ont_cap']=ont_cap"
   ]
  },
  {
   "cell_type": "code",
   "execution_count": 29,
   "id": "8fc032cb-a8ef-467c-8600-c638c5ae9585",
   "metadata": {
    "jupyter": {
     "source_hidden": true
    },
    "tags": []
   },
   "outputs": [],
   "source": [
    "# Ontario Energy\n",
    "xml_ene=soup.find(\"energies\").find_all(\"energy\")\n",
    "ont_ene=[]\n",
    "for element in xml_ene:\n",
    "    ont_ene.append(element.find(\"energymwhr\").text)\n",
    "df['ont_ene']=ont_ene"
   ]
  },
  {
   "cell_type": "code",
   "execution_count": 48,
   "id": "dd119192-a4c8-478a-8a85-3b6991fd4a35",
   "metadata": {},
   "outputs": [
    {
     "name": "stdout",
     "output_type": "stream",
     "text": [
      "['13081', '13081', '13081', '13081', '13081', '13081', '13081', '13081', '13081', '13081', '13081', '13081', '13081', '13081', '13081', '13081', '13081', '13081', '13081', '13081', '13081', '13081', '13081', '13081']\n",
      "None\n"
     ]
    }
   ],
   "source": [
    "# Internal Resources\n",
    "xml_int=soup.find(\"internalresources\").find_all(\"internalresource\")\n",
    "# print(xml_int[0].find(\"fueltype\").text)\n",
    "for int_element in xml_int:\n",
    "    if int_element.find(\"fueltype\").text=='Nuclear':\n",
    "        int_nuc_cap=fill_cap_list(int_element)\n",
    "        df['int_nuc_cap']=int_nuc_cap\n",
    "    elif int_element.find(\"fueltype\").text=='Gas':\n",
    "        int_gas_cap=fill_cap_list(int_element)\n",
    "        df['int_gas_cap']=int_gas_cap\n",
    "# ont_ene=[]\n",
    "# for element in xml_ene:\n",
    "#     ont_ene.append(element.find(\"energymwhr\").text)\n",
    "# df['ont_ene']=ont_ene"
   ]
  },
  {
   "cell_type": "code",
   "execution_count": 49,
   "id": "ccc1a7d2-031a-4242-81bb-246a8c4e9b14",
   "metadata": {},
   "outputs": [
    {
     "ename": "SyntaxError",
     "evalue": "invalid syntax (2237441733.py, line 2)",
     "output_type": "error",
     "traceback": [
      "\u001b[0;36m  Input \u001b[0;32mIn [49]\u001b[0;36m\u001b[0m\n\u001b[0;31m    if 3==3 x.append(0) else x.append(1)\u001b[0m\n\u001b[0m            ^\u001b[0m\n\u001b[0;31mSyntaxError\u001b[0m\u001b[0;31m:\u001b[0m invalid syntax\n"
     ]
    }
   ],
   "source": [
    "x=[]\n",
    "if 3==3 x.append(0) else x.append(1)\n",
    "print(x)"
   ]
  },
  {
   "cell_type": "code",
   "execution_count": null,
   "id": "dbd8ee85",
   "metadata": {},
   "outputs": [],
   "source": [
    "data_report={'deliveryhour':[]}\n",
    "for i in range(len(xml_cap)):\n",
    "    delivery_hour= xml_cap[i].find(\"deliveryhour\").text\n",
    "    energy_mw= xml_cap[i].find(\"energymw\").text\n",
    "    \n",
    "    data_report['deliveryhour'].append([delivery_hour,energy_mw])\n",
    "print(data_report)\n",
    "    "
   ]
  },
  {
   "cell_type": "code",
   "execution_count": null,
   "id": "3c5c2e5b",
   "metadata": {},
   "outputs": [],
   "source": [
    "#print(page.text)"
   ]
  },
  {
   "cell_type": "code",
   "execution_count": null,
   "id": "103c96f2",
   "metadata": {},
   "outputs": [],
   "source": []
  }
 ],
 "metadata": {
  "kernelspec": {
   "display_name": "Python 3 (ipykernel)",
   "language": "python",
   "name": "python3"
  },
  "language_info": {
   "codemirror_mode": {
    "name": "ipython",
    "version": 3
   },
   "file_extension": ".py",
   "mimetype": "text/x-python",
   "name": "python",
   "nbconvert_exporter": "python",
   "pygments_lexer": "ipython3",
   "version": "3.9.12"
  }
 },
 "nbformat": 4,
 "nbformat_minor": 5
}
