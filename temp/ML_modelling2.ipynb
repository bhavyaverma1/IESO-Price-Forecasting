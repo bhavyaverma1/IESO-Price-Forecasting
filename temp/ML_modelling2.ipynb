{
 "cells": [
  {
   "cell_type": "code",
   "execution_count": 1,
   "id": "c3e030b8-e3de-4a41-b96a-a9e2396bbe24",
   "metadata": {},
   "outputs": [],
   "source": [
    "import pandas as pd\n",
    "from bs4 import BeautifulSoup\n",
    "import requests\n",
    "\n",
    "from datetime import datetime, time\n",
    "from google.cloud import bigquery\n",
    "from google.oauth2 import service_account\n",
    "\n",
    "pd.set_option('display.max_columns', None)\n",
    "# pd.reset_option(‘max_columns’)"
   ]
  },
  {
   "cell_type": "code",
   "execution_count": 2,
   "id": "6fa21237-7fcb-4d2e-9178-9a42c4b4550b",
   "metadata": {},
   "outputs": [],
   "source": [
    "path_to_private_key = './ieso-dashboard-c639f1a39298.json'\n",
    "credentials = service_account.Credentials.from_service_account_file(\n",
    "    path_to_private_key,\n",
    "    scopes=['https://www.googleapis.com/auth/cloud-platform'],\n",
    ")"
   ]
  },
  {
   "cell_type": "markdown",
   "id": "25aee3f8-d9d5-4bb3-bdf9-fe964aa994a9",
   "metadata": {},
   "source": [
    "### Independent/ Input Variables "
   ]
  },
  {
   "cell_type": "code",
   "execution_count": 3,
   "id": "b4322dfb-d2b0-439e-af7e-3e1552f11e85",
   "metadata": {
    "tags": []
   },
   "outputs": [],
   "source": [
    "# OLD DATA from csv file\n",
    "old_ade=pd.read_csv('adequacy_202209052348.csv')\n",
    "old_ade['mkt_datetime']=old_ade['mkt_datetime'].map(lambda x: datetime.strptime(x,'%m/%d/%Y %H:%M').isoformat(timespec='minutes'))"
   ]
  },
  {
   "cell_type": "code",
   "execution_count": 4,
   "id": "62f65965-398f-422c-9cbe-9fc8c042629d",
   "metadata": {
    "tags": []
   },
   "outputs": [],
   "source": [
    "# CURRENT DATA from bigQuery\n",
    "query_string=\"SELECT * FROM `ieso-dashboard.Adequacy2.Adequacy2_table` ORDER BY mkt_date, mkt_he;\"\n",
    "gbq_ade = pd.read_gbq(query_string, credentials=credentials)"
   ]
  },
  {
   "cell_type": "code",
   "execution_count": 5,
   "id": "af8fb92d-79f2-4a94-aded-e423220a9f9a",
   "metadata": {},
   "outputs": [],
   "source": [
    "hour_col = gbq_ade['mkt_he'].apply(lambda x: str(x-1)+\":00\")\n",
    "date_col = gbq_ade['mkt_date'].apply(lambda x: str(x))\n",
    "\n",
    "date_time=pd.to_datetime(date_col +' '+ hour_col).map(lambda x: x.isoformat(timespec='minutes'))\n",
    "\n",
    "gbq_ade.insert(loc = 0,\n",
    "          column = 'mkt_datetime',\n",
    "          value = date_time)\n",
    "# gbq_ade['mkt_datetime']=date_time"
   ]
  },
  {
   "cell_type": "code",
   "execution_count": 6,
   "id": "cd40358b-3968-450e-8c50-a7973708a76f",
   "metadata": {},
   "outputs": [],
   "source": [
    "ind_var = ['mkt_datetime','int_nuc_sch', 'int_gas_sch',  'int_hyd_sch', 'int_win_sch', 'imp_mic_sch', 'imp_new_sch', 'imp_que_sch', 'ont_avg_dem', 'exp_mic_sch', 'exp_new_sch', 'exp_que_sch']\n",
    "X_curr = gbq_ade[ind_var]\n",
    "X_old = old_ade[ind_var]"
   ]
  },
  {
   "cell_type": "code",
   "execution_count": 7,
   "id": "961b4817-e4e5-4c46-a6f1-12a4e8e28d8e",
   "metadata": {},
   "outputs": [],
   "source": [
    "X1=X_curr[X_curr['mkt_datetime']>max(X_old['mkt_datetime'])]  # which is '2022-09-06T23:00'\n",
    "X_combined = pd.concat([X_old, X1], ignore_index=True)"
   ]
  },
  {
   "cell_type": "code",
   "execution_count": 8,
   "id": "c12bc7e4-e604-4633-8564-3468191a8451",
   "metadata": {},
   "outputs": [
    {
     "data": {
      "text/html": [
       "<div>\n",
       "<style scoped>\n",
       "    .dataframe tbody tr th:only-of-type {\n",
       "        vertical-align: middle;\n",
       "    }\n",
       "\n",
       "    .dataframe tbody tr th {\n",
       "        vertical-align: top;\n",
       "    }\n",
       "\n",
       "    .dataframe thead th {\n",
       "        text-align: right;\n",
       "    }\n",
       "</style>\n",
       "<table border=\"1\" class=\"dataframe\">\n",
       "  <thead>\n",
       "    <tr style=\"text-align: right;\">\n",
       "      <th></th>\n",
       "      <th>mkt_datetime</th>\n",
       "      <th>int_nuc_sch</th>\n",
       "      <th>int_gas_sch</th>\n",
       "      <th>int_hyd_sch</th>\n",
       "      <th>int_win_sch</th>\n",
       "      <th>imp_mic_sch</th>\n",
       "      <th>imp_new_sch</th>\n",
       "      <th>imp_que_sch</th>\n",
       "      <th>ont_avg_dem</th>\n",
       "      <th>exp_mic_sch</th>\n",
       "      <th>exp_new_sch</th>\n",
       "      <th>exp_que_sch</th>\n",
       "    </tr>\n",
       "  </thead>\n",
       "  <tbody>\n",
       "    <tr>\n",
       "      <th>23563</th>\n",
       "      <td>2022-09-08T19:00</td>\n",
       "      <td>9415</td>\n",
       "      <td>4183</td>\n",
       "      <td>4491</td>\n",
       "      <td>339</td>\n",
       "      <td>366</td>\n",
       "      <td>650</td>\n",
       "      <td>9</td>\n",
       "      <td>18660</td>\n",
       "      <td>-355</td>\n",
       "      <td>-380</td>\n",
       "      <td>-9</td>\n",
       "    </tr>\n",
       "    <tr>\n",
       "      <th>23564</th>\n",
       "      <td>2022-09-08T20:00</td>\n",
       "      <td>9415</td>\n",
       "      <td>3976</td>\n",
       "      <td>4218</td>\n",
       "      <td>406</td>\n",
       "      <td>305</td>\n",
       "      <td>250</td>\n",
       "      <td>9</td>\n",
       "      <td>17742</td>\n",
       "      <td>-418</td>\n",
       "      <td>-380</td>\n",
       "      <td>-9</td>\n",
       "    </tr>\n",
       "    <tr>\n",
       "      <th>23565</th>\n",
       "      <td>2022-09-08T21:00</td>\n",
       "      <td>9415</td>\n",
       "      <td>3177</td>\n",
       "      <td>3948</td>\n",
       "      <td>484</td>\n",
       "      <td>280</td>\n",
       "      <td>0</td>\n",
       "      <td>9</td>\n",
       "      <td>16484</td>\n",
       "      <td>-645</td>\n",
       "      <td>-621</td>\n",
       "      <td>-9</td>\n",
       "    </tr>\n",
       "    <tr>\n",
       "      <th>23566</th>\n",
       "      <td>2022-09-08T22:00</td>\n",
       "      <td>9415</td>\n",
       "      <td>2943</td>\n",
       "      <td>3399</td>\n",
       "      <td>526</td>\n",
       "      <td>0</td>\n",
       "      <td>0</td>\n",
       "      <td>9</td>\n",
       "      <td>15062</td>\n",
       "      <td>-855</td>\n",
       "      <td>-710</td>\n",
       "      <td>-9</td>\n",
       "    </tr>\n",
       "    <tr>\n",
       "      <th>23567</th>\n",
       "      <td>2022-09-08T23:00</td>\n",
       "      <td>9415</td>\n",
       "      <td>1581</td>\n",
       "      <td>3206</td>\n",
       "      <td>564</td>\n",
       "      <td>0</td>\n",
       "      <td>0</td>\n",
       "      <td>9</td>\n",
       "      <td>14132</td>\n",
       "      <td>-695</td>\n",
       "      <td>-100</td>\n",
       "      <td>-9</td>\n",
       "    </tr>\n",
       "  </tbody>\n",
       "</table>\n",
       "</div>"
      ],
      "text/plain": [
       "           mkt_datetime int_nuc_sch int_gas_sch int_hyd_sch int_win_sch  \\\n",
       "23563  2022-09-08T19:00        9415        4183        4491         339   \n",
       "23564  2022-09-08T20:00        9415        3976        4218         406   \n",
       "23565  2022-09-08T21:00        9415        3177        3948         484   \n",
       "23566  2022-09-08T22:00        9415        2943        3399         526   \n",
       "23567  2022-09-08T23:00        9415        1581        3206         564   \n",
       "\n",
       "      imp_mic_sch imp_new_sch imp_que_sch  ont_avg_dem exp_mic_sch  \\\n",
       "23563         366         650           9        18660        -355   \n",
       "23564         305         250           9        17742        -418   \n",
       "23565         280           0           9        16484        -645   \n",
       "23566           0           0           9        15062        -855   \n",
       "23567           0           0           9        14132        -695   \n",
       "\n",
       "      exp_new_sch exp_que_sch  \n",
       "23563        -380          -9  \n",
       "23564        -380          -9  \n",
       "23565        -621          -9  \n",
       "23566        -710          -9  \n",
       "23567        -100          -9  "
      ]
     },
     "execution_count": 8,
     "metadata": {},
     "output_type": "execute_result"
    }
   ],
   "source": [
    "X=X_combined.dropna() # includes all days from 1/1/20 till 8/9/22\n",
    "X.to_csv('x.csv', index=False)\n",
    "\n",
    "X.tail()"
   ]
  },
  {
   "cell_type": "markdown",
   "id": "6401f57d-d257-40d3-8065-9197076a4978",
   "metadata": {},
   "source": [
    "### Target Variable (ont_ene)"
   ]
  },
  {
   "cell_type": "code",
   "execution_count": 9,
   "id": "edd997a0-6289-4c14-94c9-b62bb39eb28f",
   "metadata": {},
   "outputs": [],
   "source": [
    "## CURRENT DATA being fetched from bigQuery\n",
    "query_string=\"SELECT * FROM `ieso-dashboard.RealtimeMktPrice.RealtimeMktPrice_table` ORDER BY mkt_date, mkt_he;\"\n",
    "gbq_rtmp = pd.read_gbq(query_string, credentials=credentials)"
   ]
  },
  {
   "cell_type": "code",
   "execution_count": 10,
   "id": "0eb80811-ffc6-4b31-86c5-729d5bc15429",
   "metadata": {},
   "outputs": [],
   "source": [
    "hour_col = gbq_rtmp['mkt_he'].apply(lambda x: str(x-1)+\":00\")\n",
    "date_col = gbq_rtmp['mkt_date'].apply(lambda x: str(x))\n",
    "\n",
    "date_time=pd.to_datetime(date_col +' '+ hour_col).map(lambda x: x.isoformat(timespec='minutes'))\n",
    "\n",
    "gbq_rtmp.insert(loc = 0,\n",
    "          column = 'mkt_datetime',\n",
    "          value = date_time)"
   ]
  },
  {
   "cell_type": "code",
   "execution_count": 11,
   "id": "dbfcfb50-28ff-4774-b766-b03deb02b012",
   "metadata": {},
   "outputs": [],
   "source": [
    "dep_var = ['mkt_datetime','ont_ene']\n",
    "Y_curr = gbq_rtmp[dep_var]"
   ]
  },
  {
   "cell_type": "code",
   "execution_count": 12,
   "id": "dfb60e8c-19a4-4ab4-b452-d1dc6787a70f",
   "metadata": {},
   "outputs": [],
   "source": [
    "## OLD DATA\n",
    "old_rtmp=pd.read_excel('historical ont_ene.xlsx',skiprows=4)\n",
    "hour_col = old_rtmp['he'].apply(lambda x: str(x-1)+\":00\")\n",
    "date_col = old_rtmp['mkt_date'].apply(lambda x: str(x))\n",
    "\n",
    "date_time=pd.to_datetime(date_col +' '+ hour_col).map(lambda x: x.isoformat(timespec='minutes'))\n",
    "old_rtmp.insert(loc = 0,\n",
    "          column = 'mkt_datetime',\n",
    "          value = date_time)"
   ]
  },
  {
   "cell_type": "code",
   "execution_count": 13,
   "id": "cbb2cfe0-ed2e-4bfa-8303-601236db565c",
   "metadata": {},
   "outputs": [],
   "source": [
    "val_to_fillna=old_rtmp[old_rtmp['mkt_date']=='2022-05-20'].ont_ene.mean()\n",
    "old_rtmp.at[20893,'ont_ene']=val_to_fillna\n",
    "old_rtmp.at[20894,'ont_ene']=val_to_fillna\n",
    "old_rtmp.at[20895,'ont_ene']=val_to_fillna\n",
    "\n",
    "# old_rtmpold_rtmp['mkt_datetime']=='2022-05-20T14:00']['ont_ene']=val_to_fillna\n",
    "# old_rtmp[old_rtmp['mkt_datetime']=='2022-05-20T15:00']['ont_ene']=val_to_fillna\n",
    "old_rtmp=old_rtmp.dropna()"
   ]
  },
  {
   "cell_type": "code",
   "execution_count": 14,
   "id": "bba2c125-e165-471d-b2cc-fbaf90bf4574",
   "metadata": {},
   "outputs": [],
   "source": [
    "Y_old = old_rtmp[dep_var]"
   ]
  },
  {
   "cell_type": "code",
   "execution_count": 15,
   "id": "81542bc4-1530-4d0d-ba9e-1deaba3a78c4",
   "metadata": {},
   "outputs": [],
   "source": [
    "Y1=Y_curr[Y_curr['mkt_datetime']>max(Y_old['mkt_datetime'])]  # which is '2022-09-07T10:00'\n",
    "Y_combined = pd.concat([Y_old, Y1], ignore_index=True)"
   ]
  },
  {
   "cell_type": "code",
   "execution_count": 16,
   "id": "93c8c444-f539-4d25-a053-68673ebc9626",
   "metadata": {},
   "outputs": [
    {
     "data": {
      "text/html": [
       "<div>\n",
       "<style scoped>\n",
       "    .dataframe tbody tr th:only-of-type {\n",
       "        vertical-align: middle;\n",
       "    }\n",
       "\n",
       "    .dataframe tbody tr th {\n",
       "        vertical-align: top;\n",
       "    }\n",
       "\n",
       "    .dataframe thead th {\n",
       "        text-align: right;\n",
       "    }\n",
       "</style>\n",
       "<table border=\"1\" class=\"dataframe\">\n",
       "  <thead>\n",
       "    <tr style=\"text-align: right;\">\n",
       "      <th></th>\n",
       "      <th>mkt_datetime</th>\n",
       "      <th>ont_ene</th>\n",
       "    </tr>\n",
       "  </thead>\n",
       "  <tbody>\n",
       "    <tr>\n",
       "      <th>0</th>\n",
       "      <td>2020-01-01T00:00</td>\n",
       "      <td>0.0</td>\n",
       "    </tr>\n",
       "    <tr>\n",
       "      <th>1</th>\n",
       "      <td>2020-01-01T01:00</td>\n",
       "      <td>0.0</td>\n",
       "    </tr>\n",
       "    <tr>\n",
       "      <th>2</th>\n",
       "      <td>2020-01-01T02:00</td>\n",
       "      <td>0.0</td>\n",
       "    </tr>\n",
       "    <tr>\n",
       "      <th>3</th>\n",
       "      <td>2020-01-01T03:00</td>\n",
       "      <td>0.0</td>\n",
       "    </tr>\n",
       "    <tr>\n",
       "      <th>4</th>\n",
       "      <td>2020-01-01T04:00</td>\n",
       "      <td>0.0</td>\n",
       "    </tr>\n",
       "  </tbody>\n",
       "</table>\n",
       "</div>"
      ],
      "text/plain": [
       "       mkt_datetime  ont_ene\n",
       "0  2020-01-01T00:00      0.0\n",
       "1  2020-01-01T01:00      0.0\n",
       "2  2020-01-01T02:00      0.0\n",
       "3  2020-01-01T03:00      0.0\n",
       "4  2020-01-01T04:00      0.0"
      ]
     },
     "execution_count": 16,
     "metadata": {},
     "output_type": "execute_result"
    }
   ],
   "source": [
    "Y=Y_combined.dropna() # includes all days from 1/1/20 till 8/9/22\n",
    "Y.to_csv('y.csv', index=False)\n",
    "\n",
    "Y.head()"
   ]
  },
  {
   "cell_type": "code",
   "execution_count": 17,
   "id": "26b78c9a-fe51-4766-8033-0163a443d6e8",
   "metadata": {},
   "outputs": [
    {
     "data": {
      "text/html": [
       "<div>\n",
       "<style scoped>\n",
       "    .dataframe tbody tr th:only-of-type {\n",
       "        vertical-align: middle;\n",
       "    }\n",
       "\n",
       "    .dataframe tbody tr th {\n",
       "        vertical-align: top;\n",
       "    }\n",
       "\n",
       "    .dataframe thead th {\n",
       "        text-align: right;\n",
       "    }\n",
       "</style>\n",
       "<table border=\"1\" class=\"dataframe\">\n",
       "  <thead>\n",
       "    <tr style=\"text-align: right;\">\n",
       "      <th></th>\n",
       "      <th>mkt_datetime</th>\n",
       "      <th>ont_ene</th>\n",
       "    </tr>\n",
       "  </thead>\n",
       "  <tbody>\n",
       "    <tr>\n",
       "      <th>23549</th>\n",
       "      <td>2022-09-08T05:00</td>\n",
       "      <td>77.74</td>\n",
       "    </tr>\n",
       "    <tr>\n",
       "      <th>23550</th>\n",
       "      <td>2022-09-08T06:00</td>\n",
       "      <td>79.24</td>\n",
       "    </tr>\n",
       "    <tr>\n",
       "      <th>23551</th>\n",
       "      <td>2022-09-08T07:00</td>\n",
       "      <td>79.54</td>\n",
       "    </tr>\n",
       "    <tr>\n",
       "      <th>23552</th>\n",
       "      <td>2022-09-08T08:00</td>\n",
       "      <td>93.67</td>\n",
       "    </tr>\n",
       "    <tr>\n",
       "      <th>23553</th>\n",
       "      <td>2022-09-08T09:00</td>\n",
       "      <td>128.69</td>\n",
       "    </tr>\n",
       "  </tbody>\n",
       "</table>\n",
       "</div>"
      ],
      "text/plain": [
       "           mkt_datetime  ont_ene\n",
       "23549  2022-09-08T05:00    77.74\n",
       "23550  2022-09-08T06:00    79.24\n",
       "23551  2022-09-08T07:00    79.54\n",
       "23552  2022-09-08T08:00    93.67\n",
       "23553  2022-09-08T09:00   128.69"
      ]
     },
     "execution_count": 17,
     "metadata": {},
     "output_type": "execute_result"
    }
   ],
   "source": [
    "Y.tail()"
   ]
  },
  {
   "cell_type": "code",
   "execution_count": null,
   "id": "263284fc-0b2e-4144-a86f-c2cb9d5b4818",
   "metadata": {},
   "outputs": [],
   "source": []
  }
 ],
 "metadata": {
  "kernelspec": {
   "display_name": "Python 3 (ipykernel)",
   "language": "python",
   "name": "python3"
  },
  "language_info": {
   "codemirror_mode": {
    "name": "ipython",
    "version": 3
   },
   "file_extension": ".py",
   "mimetype": "text/x-python",
   "name": "python",
   "nbconvert_exporter": "python",
   "pygments_lexer": "ipython3",
   "version": "3.9.12"
  }
 },
 "nbformat": 4,
 "nbformat_minor": 5
}
