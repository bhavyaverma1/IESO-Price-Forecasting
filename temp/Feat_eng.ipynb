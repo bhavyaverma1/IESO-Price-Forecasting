{
 "cells": [
  {
   "cell_type": "code",
   "execution_count": 1,
   "id": "e67a8452-06fe-4a24-83e2-0fe05fa96143",
   "metadata": {},
   "outputs": [],
   "source": [
    "import pandas as pd\n",
    "from bs4 import BeautifulSoup\n",
    "import requests\n",
    "\n",
    "from datetime import datetime, time\n",
    "from google.cloud import bigquery\n",
    "from google.oauth2 import service_account\n",
    "\n",
    "from sklearn.preprocessing import MinMaxScaler\n",
    "from matplotlib import pyplot as plt\n",
    "\n",
    "%matplotlib inline\n",
    "\n",
    "pd.set_option('display.max_columns', None)\n",
    "# pd.reset_option(‘max_columns’)"
   ]
  },
  {
   "cell_type": "code",
   "execution_count": 2,
   "id": "9de97f39-bd12-4381-bbef-81113f2e4012",
   "metadata": {},
   "outputs": [],
   "source": [
    "df=pd.read_csv('merged_data.csv',index_col=0)"
   ]
  },
  {
   "cell_type": "code",
   "execution_count": 3,
   "id": "92bb0506-c0a4-400c-994b-dae64a9b1a74",
   "metadata": {},
   "outputs": [
    {
     "data": {
      "image/png": "[encoded data removed]",
      "text/plain": [
       "<Figure size 432x288 with 1 Axes>"
      ]
     },
     "metadata": {
      "needs_background": "light"
     },
     "output_type": "display_data"
    }
   ],
   "source": [
    "plt.figure()\n",
    "plt.plot(df.values[:,-1])\n",
    "plt.title('ont_ene',loc='right')\n",
    "plt.show()"
   ]
  },
  {
   "cell_type": "code",
   "execution_count": 4,
   "id": "bc581b4e-32e2-4004-ac24-e90901a2fc45",
   "metadata": {},
   "outputs": [],
   "source": [
    "values=df.values.astype('float32')"
   ]
  },
  {
   "cell_type": "code",
   "execution_count": 5,
   "id": "be052df7-5079-4689-bb8b-5817efdb76c5",
   "metadata": {},
   "outputs": [],
   "source": [
    "scaler = MinMaxScaler(feature_range=(0, 1))\n",
    "scaled = scaler.fit_transform(values)"
   ]
  },
  {
   "cell_type": "code",
   "execution_count": 6,
   "id": "de25fe27-c9c7-4f06-8529-3f7f9224d190",
   "metadata": {},
   "outputs": [
    {
     "data": {
      "text/plain": [
       "array([[0.9078231 , 0.0141516 , 0.20030308, ..., 0.2657143 , 0.42241377,\n",
       "        0.0027082 ],\n",
       "       [0.9078231 , 0.0141516 , 0.19449353, ..., 0.2657143 , 0.42241377,\n",
       "        0.0027082 ],\n",
       "       [0.9078231 , 0.0141516 , 0.19449353, ..., 0.20571429, 0.42241377,\n",
       "        0.0027082 ],\n",
       "       ...,\n",
       "       [0.5649247 , 0.4290318 , 0.4758777 , ..., 0.64514285, 0.9959165 ,\n",
       "               nan],\n",
       "       [0.5649247 , 0.3962449 , 0.33720636, ..., 0.5942857 , 0.9959165 ,\n",
       "               nan],\n",
       "       [0.5649247 , 0.20540844, 0.28845668, ..., 0.94285715, 0.9959165 ,\n",
       "               nan]], dtype=float32)"
      ]
     },
     "execution_count": 6,
     "metadata": {},
     "output_type": "execute_result"
    }
   ],
   "source": [
    "scaled"
   ]
  },
  {
   "cell_type": "code",
   "execution_count": 8,
   "id": "c0614954-1ce3-420c-b0d3-b4a768c9961c",
   "metadata": {},
   "outputs": [],
   "source": [
    "import numpy as np\n",
    "from sklearn import metrics\n",
    "from sklearn.linear_model import LinearRegression\n",
    "from sklearn.metrics import r2_score"
   ]
  },
  {
   "cell_type": "code",
   "execution_count": 9,
   "id": "78216b1c-a2d7-48c6-a213-a2b7b36fbec7",
   "metadata": {},
   "outputs": [
    {
     "data": {
      "text/html": [
       "<div>\n",
       "<style scoped>\n",
       "    .dataframe tbody tr th:only-of-type {\n",
       "        vertical-align: middle;\n",
       "    }\n",
       "\n",
       "    .dataframe tbody tr th {\n",
       "        vertical-align: top;\n",
       "    }\n",
       "\n",
       "    .dataframe thead th {\n",
       "        text-align: right;\n",
       "    }\n",
       "</style>\n",
       "<table border=\"1\" class=\"dataframe\">\n",
       "  <thead>\n",
       "    <tr style=\"text-align: right;\">\n",
       "      <th></th>\n",
       "      <th>int_nuc_sch</th>\n",
       "      <th>int_gas_sch</th>\n",
       "      <th>int_hyd_sch</th>\n",
       "      <th>int_win_sch</th>\n",
       "      <th>imp_mic_sch</th>\n",
       "      <th>imp_new_sch</th>\n",
       "      <th>imp_que_sch</th>\n",
       "      <th>ont_avg_dem</th>\n",
       "      <th>exp_mic_sch</th>\n",
       "      <th>exp_new_sch</th>\n",
       "      <th>exp_que_sch</th>\n",
       "      <th>ont_ene</th>\n",
       "    </tr>\n",
       "    <tr>\n",
       "      <th>mkt_datetime</th>\n",
       "      <th></th>\n",
       "      <th></th>\n",
       "      <th></th>\n",
       "      <th></th>\n",
       "      <th></th>\n",
       "      <th></th>\n",
       "      <th></th>\n",
       "      <th></th>\n",
       "      <th></th>\n",
       "      <th></th>\n",
       "      <th></th>\n",
       "      <th></th>\n",
       "    </tr>\n",
       "  </thead>\n",
       "  <tbody>\n",
       "    <tr>\n",
       "      <th>2022-09-08 19:00:00</th>\n",
       "      <td>9415</td>\n",
       "      <td>4183</td>\n",
       "      <td>4491</td>\n",
       "      <td>339</td>\n",
       "      <td>366</td>\n",
       "      <td>650</td>\n",
       "      <td>9</td>\n",
       "      <td>18660</td>\n",
       "      <td>-355</td>\n",
       "      <td>-380</td>\n",
       "      <td>-9</td>\n",
       "      <td>NaN</td>\n",
       "    </tr>\n",
       "    <tr>\n",
       "      <th>2022-09-08 20:00:00</th>\n",
       "      <td>9415</td>\n",
       "      <td>3976</td>\n",
       "      <td>4218</td>\n",
       "      <td>406</td>\n",
       "      <td>305</td>\n",
       "      <td>250</td>\n",
       "      <td>9</td>\n",
       "      <td>17742</td>\n",
       "      <td>-418</td>\n",
       "      <td>-380</td>\n",
       "      <td>-9</td>\n",
       "      <td>NaN</td>\n",
       "    </tr>\n",
       "    <tr>\n",
       "      <th>2022-09-08 21:00:00</th>\n",
       "      <td>9415</td>\n",
       "      <td>3177</td>\n",
       "      <td>3948</td>\n",
       "      <td>484</td>\n",
       "      <td>280</td>\n",
       "      <td>0</td>\n",
       "      <td>9</td>\n",
       "      <td>16484</td>\n",
       "      <td>-645</td>\n",
       "      <td>-621</td>\n",
       "      <td>-9</td>\n",
       "      <td>NaN</td>\n",
       "    </tr>\n",
       "    <tr>\n",
       "      <th>2022-09-08 22:00:00</th>\n",
       "      <td>9415</td>\n",
       "      <td>2943</td>\n",
       "      <td>3399</td>\n",
       "      <td>526</td>\n",
       "      <td>0</td>\n",
       "      <td>0</td>\n",
       "      <td>9</td>\n",
       "      <td>15062</td>\n",
       "      <td>-855</td>\n",
       "      <td>-710</td>\n",
       "      <td>-9</td>\n",
       "      <td>NaN</td>\n",
       "    </tr>\n",
       "    <tr>\n",
       "      <th>2022-09-08 23:00:00</th>\n",
       "      <td>9415</td>\n",
       "      <td>1581</td>\n",
       "      <td>3206</td>\n",
       "      <td>564</td>\n",
       "      <td>0</td>\n",
       "      <td>0</td>\n",
       "      <td>9</td>\n",
       "      <td>14132</td>\n",
       "      <td>-695</td>\n",
       "      <td>-100</td>\n",
       "      <td>-9</td>\n",
       "      <td>NaN</td>\n",
       "    </tr>\n",
       "  </tbody>\n",
       "</table>\n",
       "</div>"
      ],
      "text/plain": [
       "                     int_nuc_sch  int_gas_sch  int_hyd_sch  int_win_sch  \\\n",
       "mkt_datetime                                                              \n",
       "2022-09-08 19:00:00         9415         4183         4491          339   \n",
       "2022-09-08 20:00:00         9415         3976         4218          406   \n",
       "2022-09-08 21:00:00         9415         3177         3948          484   \n",
       "2022-09-08 22:00:00         9415         2943         3399          526   \n",
       "2022-09-08 23:00:00         9415         1581         3206          564   \n",
       "\n",
       "                     imp_mic_sch  imp_new_sch  imp_que_sch  ont_avg_dem  \\\n",
       "mkt_datetime                                                              \n",
       "2022-09-08 19:00:00          366          650            9        18660   \n",
       "2022-09-08 20:00:00          305          250            9        17742   \n",
       "2022-09-08 21:00:00          280            0            9        16484   \n",
       "2022-09-08 22:00:00            0            0            9        15062   \n",
       "2022-09-08 23:00:00            0            0            9        14132   \n",
       "\n",
       "                     exp_mic_sch  exp_new_sch  exp_que_sch  ont_ene  \n",
       "mkt_datetime                                                         \n",
       "2022-09-08 19:00:00         -355         -380           -9      NaN  \n",
       "2022-09-08 20:00:00         -418         -380           -9      NaN  \n",
       "2022-09-08 21:00:00         -645         -621           -9      NaN  \n",
       "2022-09-08 22:00:00         -855         -710           -9      NaN  \n",
       "2022-09-08 23:00:00         -695         -100           -9      NaN  "
      ]
     },
     "execution_count": 9,
     "metadata": {},
     "output_type": "execute_result"
    }
   ],
   "source": [
    "df.tail()"
   ]
  },
  {
   "cell_type": "code",
   "execution_count": 27,
   "id": "4bc78c0c-85be-460f-90e6-124c511ac202",
   "metadata": {},
   "outputs": [],
   "source": [
    "data=scaled[:23554]\n",
    "X=data[:,:-1]\n",
    "y=data[:,-1]"
   ]
  },
  {
   "cell_type": "code",
   "execution_count": 28,
   "id": "3c81dfbc-3044-4691-a17e-43cab70ff0ae",
   "metadata": {},
   "outputs": [],
   "source": [
    "from sklearn.model_selection import train_test_split"
   ]
  },
  {
   "cell_type": "code",
   "execution_count": 29,
   "id": "9d43d418-51bb-40ed-b6f9-e63a2d23c443",
   "metadata": {},
   "outputs": [],
   "source": [
    "X_train, X_test, y_train, y_test = train_test_split(X,y,test_size=0.8,random_state=1)"
   ]
  },
  {
   "cell_type": "code",
   "execution_count": 30,
   "id": "728d3e32-d613-4d0b-8110-22e8f37697df",
   "metadata": {},
   "outputs": [
    {
     "data": {
      "text/html": [
       "<style>#sk-container-id-2 {color: black;background-color: white;}#sk-container-id-2 pre{padding: 0;}#sk-container-id-2 div.sk-toggleable {background-color: white;}#sk-container-id-2 label.sk-toggleable__label {cursor: pointer;display: block;width: 100%;margin-bottom: 0;padding: 0.3em;box-sizing: border-box;text-align: center;}#sk-container-id-2 label.sk-toggleable__label-arrow:before {content: \"▸\";float: left;margin-right: 0.25em;color: #696969;}#sk-container-id-2 label.sk-toggleable__label-arrow:hover:before {color: black;}#sk-container-id-2 div.sk-estimator:hover label.sk-toggleable__label-arrow:before {color: black;}#sk-container-id-2 div.sk-toggleable__content {max-height: 0;max-width: 0;overflow: hidden;text-align: left;background-color: #f0f8ff;}#sk-container-id-2 div.sk-toggleable__content pre {margin: 0.2em;color: black;border-radius: 0.25em;background-color: #f0f8ff;}#sk-container-id-2 input.sk-toggleable__control:checked~div.sk-toggleable__content {max-height: 200px;max-width: 100%;overflow: auto;}#sk-container-id-2 input.sk-toggleable__control:checked~label.sk-toggleable__label-arrow:before {content: \"▾\";}#sk-container-id-2 div.sk-estimator input.sk-toggleable__control:checked~label.sk-toggleable__label {background-color: #d4ebff;}#sk-container-id-2 div.sk-label input.sk-toggleable__control:checked~label.sk-toggleable__label {background-color: #d4ebff;}#sk-container-id-2 input.sk-hidden--visually {border: 0;clip: rect(1px 1px 1px 1px);clip: rect(1px, 1px, 1px, 1px);height: 1px;margin: -1px;overflow: hidden;padding: 0;position: absolute;width: 1px;}#sk-container-id-2 div.sk-estimator {font-family: monospace;background-color: #f0f8ff;border: 1px dotted black;border-radius: 0.25em;box-sizing: border-box;margin-bottom: 0.5em;}#sk-container-id-2 div.sk-estimator:hover {background-color: #d4ebff;}#sk-container-id-2 div.sk-parallel-item::after {content: \"\";width: 100%;border-bottom: 1px solid gray;flex-grow: 1;}#sk-container-id-2 div.sk-label:hover label.sk-toggleable__label {background-color: #d4ebff;}#sk-container-id-2 div.sk-serial::before {content: \"\";position: absolute;border-left: 1px solid gray;box-sizing: border-box;top: 0;bottom: 0;left: 50%;z-index: 0;}#sk-container-id-2 div.sk-serial {display: flex;flex-direction: column;align-items: center;background-color: white;padding-right: 0.2em;padding-left: 0.2em;position: relative;}#sk-container-id-2 div.sk-item {position: relative;z-index: 1;}#sk-container-id-2 div.sk-parallel {display: flex;align-items: stretch;justify-content: center;background-color: white;position: relative;}#sk-container-id-2 div.sk-item::before, #sk-container-id-2 div.sk-parallel-item::before {content: \"\";position: absolute;border-left: 1px solid gray;box-sizing: border-box;top: 0;bottom: 0;left: 50%;z-index: -1;}#sk-container-id-2 div.sk-parallel-item {display: flex;flex-direction: column;z-index: 1;position: relative;background-color: white;}#sk-container-id-2 div.sk-parallel-item:first-child::after {align-self: flex-end;width: 50%;}#sk-container-id-2 div.sk-parallel-item:last-child::after {align-self: flex-start;width: 50%;}#sk-container-id-2 div.sk-parallel-item:only-child::after {width: 0;}#sk-container-id-2 div.sk-dashed-wrapped {border: 1px dashed gray;margin: 0 0.4em 0.5em 0.4em;box-sizing: border-box;padding-bottom: 0.4em;background-color: white;}#sk-container-id-2 div.sk-label label {font-family: monospace;font-weight: bold;display: inline-block;line-height: 1.2em;}#sk-container-id-2 div.sk-label-container {text-align: center;}#sk-container-id-2 div.sk-container {/* jupyter's `normalize.less` sets `[hidden] { display: none; }` but bootstrap.min.css set `[hidden] { display: none !important; }` so we also need the `!important` here to be able to override the default hidden behavior on the sphinx rendered scikit-learn.org. See: https://github.com/scikit-learn/scikit-learn/issues/21755 */display: inline-block !important;position: relative;}#sk-container-id-2 div.sk-text-repr-fallback {display: none;}</style><div id=\"sk-container-id-2\" class=\"sk-top-container\"><div class=\"sk-text-repr-fallback\"><pre>LinearRegression()</pre><b>In a Jupyter environment, please rerun this cell to show the HTML representation or trust the notebook. <br />On GitHub, the HTML representation is unable to render, please try loading this page with nbviewer.org.</b></div><div class=\"sk-container\" hidden><div class=\"sk-item\"><div class=\"sk-estimator sk-toggleable\"><input class=\"sk-toggleable__control sk-hidden--visually\" id=\"sk-estimator-id-2\" type=\"checkbox\" checked><label for=\"sk-estimator-id-2\" class=\"sk-toggleable__label sk-toggleable__label-arrow\">LinearRegression</label><div class=\"sk-toggleable__content\"><pre>LinearRegression()</pre></div></div></div></div></div>"
      ],
      "text/plain": [
       "LinearRegression()"
      ]
     },
     "execution_count": 30,
     "metadata": {},
     "output_type": "execute_result"
    }
   ],
   "source": [
    "lin_reg = LinearRegression()\n",
    "lin_reg.fit(X_train,y_train)"
   ]
  },
  {
   "cell_type": "code",
   "execution_count": 31,
   "id": "ab3841d3-bf93-4f41-adcf-f95e904e064b",
   "metadata": {},
   "outputs": [],
   "source": [
    "y_pred = lin_reg.predict(X_test)\n"
   ]
  },
  {
   "cell_type": "code",
   "execution_count": 32,
   "id": "2b73cb08-47c4-4e73-8c16-bc7f41c84a2e",
   "metadata": {},
   "outputs": [],
   "source": [
    "from sklearn.metrics import mean_squared_error\n",
    "J_mse = mean_squared_error(y_pred, y_test)"
   ]
  },
  {
   "cell_type": "code",
   "execution_count": 33,
   "id": "95519d5d-c6ff-4213-b939-434afca87154",
   "metadata": {},
   "outputs": [],
   "source": [
    "R_square = lin_reg.score(X_test,y_test)"
   ]
  },
  {
   "cell_type": "code",
   "execution_count": 34,
   "id": "46451dfa-1cd9-41cc-a75e-2395ec9e53cf",
   "metadata": {},
   "outputs": [
    {
     "name": "stdout",
     "output_type": "stream",
     "text": [
      "0.28038665429950205\n"
     ]
    }
   ],
   "source": [
    "print(R_square)"
   ]
  },
  {
   "cell_type": "code",
   "execution_count": 35,
   "id": "49f4ac14-1069-435f-b604-52ed94907082",
   "metadata": {},
   "outputs": [
    {
     "data": {
      "text/plain": [
       "0.00026977356"
      ]
     },
     "execution_count": 35,
     "metadata": {},
     "output_type": "execute_result"
    }
   ],
   "source": [
    "J_mse"
   ]
  },
  {
   "cell_type": "code",
   "execution_count": null,
   "id": "8c8ff4b0-4938-405a-9ae8-1ce60f5bb00c",
   "metadata": {},
   "outputs": [],
   "source": [
    "lin_reg.predict()"
   ]
  }
 ],
 "metadata": {
  "kernelspec": {
   "display_name": "Python 3 (ipykernel)",
   "language": "python",
   "name": "python3"
  },
  "language_info": {
   "codemirror_mode": {
    "name": "ipython",
    "version": 3
   },
   "file_extension": ".py",
   "mimetype": "text/x-python",
   "name": "python",
   "nbconvert_exporter": "python",
   "pygments_lexer": "ipython3",
   "version": "3.9.12"
  }
 },
 "nbformat": 4,
 "nbformat_minor": 5
}
